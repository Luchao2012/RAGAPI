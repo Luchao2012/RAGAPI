{
 "cells": [
  {
   "cell_type": "code",
   "execution_count": 21,
   "metadata": {},
   "outputs": [],
   "source": [
    "# Import dependencies and initate model\n",
    "import os\n",
    "from llama_index.llms.openai import OpenAI\n",
    "from llama_index.embeddings.openai import OpenAIEmbedding\n",
    "import openai\n",
    "from getpass import getpass\n",
    "from dotenv import load_dotenv, find_dotenv\n",
    "_ = load_dotenv('.env')\n",
    "openai.api_key = os.environ['OPENAI_API_KEY']\n",
    "\n",
    "import logging\n",
    "# Add logging configuration\n",
    "logging.basicConfig(level=logging.INFO, format='%(asctime)s - %(levelname)s - %(message)s')\n",
    "\n",
    "llm_gpt35 = OpenAI(\n",
    "    model=\"gpt-35-turbo\",\n",
    ")\n",
    "\n",
    "llm_gpt4 = OpenAI(\n",
    "    model=\"gpt-4\",\n",
    ")\n",
    "\n",
    "# You need to deploy your own embedding model as well as your own chat completion model\n",
    "embed_model = OpenAIEmbedding(\n",
    "    model=\"text-embedding-ada-002\",\n",
    ")\n",
    "\n",
    "from llama_index.core import Settings\n",
    "\n",
    "Settings.llm = llm_gpt4\n",
    "Settings.embed_model = embed_model"
   ]
  },
  {
   "cell_type": "code",
   "execution_count": 10,
   "metadata": {},
   "outputs": [
    {
     "name": "stderr",
     "output_type": "stream",
     "text": [
      "2024-09-25 22:22:45,401 - INFO - HTTP Request: POST https://api.cloud.llamaindex.ai/api/parsing/upload \"HTTP/1.1 200 OK\"\n"
     ]
    },
    {
     "name": "stdout",
     "output_type": "stream",
     "text": [
      "Started parsing the file under job_id 760b4943-4029-46b1-966d-07733aaa83a2\n"
     ]
    },
    {
     "name": "stderr",
     "output_type": "stream",
     "text": [
      "2024-09-25 22:22:46,623 - INFO - HTTP Request: GET https://api.cloud.llamaindex.ai/api/parsing/job/760b4943-4029-46b1-966d-07733aaa83a2 \"HTTP/1.1 200 OK\"\n",
      "2024-09-25 22:22:46,865 - INFO - HTTP Request: GET https://api.cloud.llamaindex.ai/api/parsing/job/760b4943-4029-46b1-966d-07733aaa83a2/result/markdown \"HTTP/1.1 200 OK\"\n"
     ]
    },
    {
     "name": "stdout",
     "output_type": "stream",
     "text": [
      "[Document(id_='4c55994b-e1e1-4bb4-9e7a-d431f73d9bf2', embedding=None, metadata={'file_path': '/Users/luchaojin/Library/CloudStorage/OneDrive-Personal/RAG Product/voice-rag/data/CA-1039.pdf', 'file_name': 'CA-1039.pdf', 'file_type': 'application/pdf', 'file_size': 986437, 'creation_date': '2024-09-25', 'last_modified_date': '2024-09-25'}, excluded_embed_metadata_keys=['file_name', 'file_type', 'file_size', 'creation_date', 'last_modified_date', 'last_accessed_date'], excluded_llm_metadata_keys=['file_name', 'file_type', 'file_size', 'creation_date', 'last_modified_date', 'last_accessed_date'], relationships={}, text='# CHERRY MAXIBOLT® PROCESS MANUAL', mimetype='text/plain', start_char_idx=None, end_char_idx=None, text_template='{metadata_str}\\n\\n{content}', metadata_template='{key}: {value}', metadata_seperator='\\n'), Document(id_='0ae3f540-b3a9-4218-bb7c-eee0935d8f11', embedding=None, metadata={'file_path': '/Users/luchaojin/Library/CloudStorage/OneDrive-Personal/RAG Product/voice-rag/data/CA-1039.pdf', 'file_name': 'CA-1039.pdf', 'file_type': 'application/pdf', 'file_size': 986437, 'creation_date': '2024-09-25', 'last_modified_date': '2024-09-25'}, excluded_embed_metadata_keys=['file_name', 'file_type', 'file_size', 'creation_date', 'last_modified_date', 'last_accessed_date'], excluded_llm_metadata_keys=['file_name', 'file_type', 'file_size', 'creation_date', 'last_modified_date', 'last_accessed_date'], relationships={}, text='# TABLE OF CONTENTS\\n\\n- Introduction of Cherry® MAXIBOLT Fasteners ....................................................................................................... 1\\n- Installation Sequence .................................................................................................................................................... 1\\n- Identification ..................................................................................................................................................................... 4\\n- Installation & Inspection ............................................................................................................................................... 8\\n- Inspection & Troubleshooting ..................................................................................................................................15\\n- Removal ............................................................................................................................................................................21\\n- Installation Tooling Selection Chart........................................................................................................................22\\n- Decimal Equivalents .....................................................................................................................................................24\\n\\n# LIMITED WARRANTY\\n\\nSeller warrants the goods conform to applicable specifications and drawings and will be manufactured and inspected according to generally accepted practices of companies manufacturing industrial or aerospace fasteners. In the event of any breach of the foregoing warranty, Buyer’s sole remedy shall be to return defective goods (after receiving authorization from Seller) for replacement or refund of the purchase price, at the Seller’s option. Seller agrees to any freight costs in connection with the return of any defective goods, but any costs relating to removal of the defective or nonconforming goods or installation of replacement goods shall be Buyer’s responsibility. SELLER’S WARRANTY DOES NOT APPLY WHEN ANY PHYSICAL OR CHEMICAL CHANGE IN THE FORM OF THE PRODUCT IS MADE BY BUYER. THE FOREGOING EXPRESS WARRANTY AND REMEDY ARE EXCLUSIVE AND ARE IN LIEU OF ALL OTHER WARRANTIES AND REMEDIES; ANY IMPLIED WARRANTY AS TO QUALITY, FITNESS FOR PURPOSE, OR MERCHANTABILITY IS HEREBY SPECIFICALLY DISCLAIMED AND EXCLUDED BY SELLER. This warranty is void if seller is not notified in writing of any rejection of the goods within one (1) Year after initial use by buyer of any power Riveter or ninety (90) days after initial use of any other product. Seller shall not be liable under any circumstances for incidental, special or consequential damages arising in whole or in part from any breach by Seller, AND SUCH INCIDENTAL, SPECIAL, OR CONSEQUENTIAL DAMAGES ARE HEREBY EXPRESSLY EXCLUDED.\\n\\nOur policy is one of continuous development. Specifications shown in this document may be subject to changes introduced after publication.\\n\\nCHERRY® and MAXIBOLT® are trademarks of Cherry Aerospace.\\n\\n# ATTENTION:\\n\\nBlind fasteners are not always interchangeable with non-blind fasteners. Consult with the aircraft Original Equipment Manufacturer for proper application of this product.', mimetype='text/plain', start_char_idx=None, end_char_idx=None, text_template='{metadata_str}\\n\\n{content}', metadata_template='{key}: {value}', metadata_seperator='\\n'), Document(id_='0a94f05f-6fbd-49c1-9b23-3b08af1972a7', embedding=None, metadata={'file_path': '/Users/luchaojin/Library/CloudStorage/OneDrive-Personal/RAG Product/voice-rag/data/CA-1039.pdf', 'file_name': 'CA-1039.pdf', 'file_type': 'application/pdf', 'file_size': 986437, 'creation_date': '2024-09-25', 'last_modified_date': '2024-09-25'}, excluded_embed_metadata_keys=['file_name', 'file_type', 'file_size', 'creation_date', 'last_modified_date', 'last_accessed_date'], excluded_llm_metadata_keys=['file_name', 'file_type', 'file_size', 'creation_date', 'last_modified_date', 'last_accessed_date'], relationships={}, text='# CHERRY MAXIBOLT®\\n\\n# INSTALLATION SEQUENCE\\n\\nThis process manual is for reference on how to identify and work with Cherry MAXIBOLT blind bolt fasteners. The manual includes information on:\\n\\n- Fastener selection and part identification\\n- Hole preparation\\n- Inspection procedures\\n- Troubleshooting\\n- Installation tooling\\n\\n# CHERRY MAXIBOLT FEATURES\\n\\nCherry MAXIBOLT Blind bolts offer fast and consistent installation in metallic and composite structures. The Cherry MAXIBOLT consists of four components assembled as a single unit:\\n\\n1. Fully serrated stem with break notch\\n2. A shift washer to insure a viable mechanical lock with each fastener installation*\\n3. A separate locking collar that mechanically locks the stem to the sleeve\\n4. A blind bolt sleeve with a recess in the head to receive the locking collar.\\n\\nInformation contained in this manual applies to Cherry MAXIBOLT, Cherry Titanium MAXIBOLT and Cherry MAXIBOLT PLUS unless otherwise noted.\\n\\n*”S” Type MAXIBOLT and MAXIBOLT PLUS bolts only.', mimetype='text/plain', start_char_idx=None, end_char_idx=None, text_template='{metadata_str}\\n\\n{content}', metadata_template='{key}: {value}', metadata_seperator='\\n'), Document(id_='a4139804-dfd0-42d6-ab68-a8943c2ad1da', embedding=None, metadata={'file_path': '/Users/luchaojin/Library/CloudStorage/OneDrive-Personal/RAG Product/voice-rag/data/CA-1039.pdf', 'file_name': 'CA-1039.pdf', 'file_type': 'application/pdf', 'file_size': 986437, 'creation_date': '2024-09-25', 'last_modified_date': '2024-09-25'}, excluded_embed_metadata_keys=['file_name', 'file_type', 'file_size', 'creation_date', 'last_modified_date', 'last_accessed_date'], excluded_llm_metadata_keys=['file_name', 'file_type', 'file_size', 'creation_date', 'last_modified_date', 'last_accessed_date'], relationships={}, text='# CHERRY MAXIBOLT®\\n\\n# INSTALLATION SEQUENCE\\n\\n1. The Cherry MAXIBOLT is inserted into the prepared hole. The pulling head is slipped over the stem. With a firm pressure added to seat the head, the installation tool is actuated.\\n2. The pulling action on the stem causes the sleeve to form away from the backside of the structure, thereby eliminating exit hole delamination in composite structures.\\n3. The continued pulling action compresses the large bearing area against the backside of the structure.\\n4. The Cherry patented shift washer collapses into itself, driving the locking collar into the head recess and then into the stem locking groove to form an integral lock.\\n5. The stem fractures at the break notch providing a flush, burr-free, installation.\\n\\nNote: Installation sequence shown for “S” type MAXIBOLTs with shifting washer. Sequence is similar for “–” and “U” types without shift washer.', mimetype='text/plain', start_char_idx=None, end_char_idx=None, text_template='{metadata_str}\\n\\n{content}', metadata_template='{key}: {value}', metadata_seperator='\\n'), Document(id_='827dc627-5af0-43e3-b120-de76dd26cca5', embedding=None, metadata={'file_path': '/Users/luchaojin/Library/CloudStorage/OneDrive-Personal/RAG Product/voice-rag/data/CA-1039.pdf', 'file_name': 'CA-1039.pdf', 'file_type': 'application/pdf', 'file_size': 986437, 'creation_date': '2024-09-25', 'last_modified_date': '2024-09-25'}, excluded_embed_metadata_keys=['file_name', 'file_type', 'file_size', 'creation_date', 'last_modified_date', 'last_accessed_date'], excluded_llm_metadata_keys=['file_name', 'file_type', 'file_size', 'creation_date', 'last_modified_date', 'last_accessed_date'], relationships={}, text='# INSTALLATION NOTES\\n\\n# “-” TYPE\\n\\nLock Collar\\n\\n“-” Signifies that the 5/32\" and 3/16\" diameter sizes are installed with a double action (shifting type) tool.\\n\\n# “S” TYPE*\\n\\nShift Washer\\n\\nThe “S” type fastener has a shift washer and lock collar. “S” Signifies that the fastener is installed with a single action (non-shifting) tool for 5/32\" and 3/16\" diameters. “-” signifies that the fastener is installed with a single action (non-shifting) tool for 1/4\" and 5/16\" diameters.\\n\\n# “U” TYPE*\\n\\n“U” Signifies that the fastener is installed by a single action (non-shifting) tool for all diameters.\\n\\n# NOTES\\n\\n1. -05 and -06 dia. fasteners are installed with a double action (shifting) tool; S05 dia., S06 dia., -08 dia., and -10 dia. fasteners are installed with a single action (non-shifting) tool and are supplied with shift washer. The lock collar is solid or split, manufacturer’s option.\\n2. Minimum grip for -05 dia. is .094 and -06 dia. is .120.\\n3. A special tool nosepiece is required for all “U” type fasteners.\\n\\n* Green paint or dye on stem and/or shift washer indicates a single action installation tool requirement.\\n\\nLack of green paint or dye on -05 and -06 products indicate that a double action installation tool system must be used.', mimetype='text/plain', start_char_idx=None, end_char_idx=None, text_template='{metadata_str}\\n\\n{content}', metadata_template='{key}: {value}', metadata_seperator='\\n'), Document(id_='1c863ccb-c28a-4ce7-8c87-59f6bf89fb3b', embedding=None, metadata={'file_path': '/Users/luchaojin/Library/CloudStorage/OneDrive-Personal/RAG Product/voice-rag/data/CA-1039.pdf', 'file_name': 'CA-1039.pdf', 'file_type': 'application/pdf', 'file_size': 986437, 'creation_date': '2024-09-25', 'last_modified_date': '2024-09-25'}, excluded_embed_metadata_keys=['file_name', 'file_type', 'file_size', 'creation_date', 'last_modified_date', 'last_accessed_date'], excluded_llm_metadata_keys=['file_name', 'file_type', 'file_size', 'creation_date', 'last_modified_date', 'last_accessed_date'], relationships={}, text='# FASTENER IDENTIFICATION\\n\\n# CHERRY PART NUMBER IDENTIFICATION\\n\\nCR7310 S 06 -064 D = 3/16\" Nominal diameter Cherry MAXIBOLT blind bolt, .219 min. grip .282 max. grip, with aluminum coat equivalent to MS90353-0604D\\n\\n|Finish Code|Grip Length in 1/16 inch increments|Diameter in 1/32 inch increments|Installation Method|\\n|---|---|---|---|\\n|“U”|Single action all diameters, uses “U” type nose piece.|“S”|Single action Shift Cap Washer|\\n|“—”|Double action 5/32” and 3/16” only,|Single action 1/4” and 5/16”|Single action with Shift Cap Washer|\\n\\nBasic Part Number (materials and head style)\\n\\nNote: Refer to Cherry MAXIBOLT catalogue for complete list of finish alternates and codes. See page 6 for cross reference of Cherry MAXIBOLT and MS part numbers.\\n\\n# MILITARY PART NUMBER IDENTIFICATION\\n\\nMS90353 S 06 04 ( )\\n\\n|Finish Code/Installation Type|Grip Length in 1/16 inch increments|Diameter in 1/32 inch increments|Installation Method|\\n|---|---|---|---|\\n|“W”|Blunt Nosed Tooling| | |\\n|“U”|Single action all diameters, with “u” type nose piece.|“S”|Single action Shift Cap Washer|\\n|“—”|Double action 5/32\" and 3/16” only|1/4” and 5/16”|Single action with Shift Cap Washer|\\n\\nBasic Part Number (materials and head style)', mimetype='text/plain', start_char_idx=None, end_char_idx=None, text_template='{metadata_str}\\n\\n{content}', metadata_template='{key}: {value}', metadata_seperator='\\n'), Document(id_='6764f192-4014-4a95-9af9-6e2e4b328a8f', embedding=None, metadata={'file_path': '/Users/luchaojin/Library/CloudStorage/OneDrive-Personal/RAG Product/voice-rag/data/CA-1039.pdf', 'file_name': 'CA-1039.pdf', 'file_type': 'application/pdf', 'file_size': 986437, 'creation_date': '2024-09-25', 'last_modified_date': '2024-09-25'}, excluded_embed_metadata_keys=['file_name', 'file_type', 'file_size', 'creation_date', 'last_modified_date', 'last_accessed_date'], excluded_llm_metadata_keys=['file_name', 'file_type', 'file_size', 'creation_date', 'last_modified_date', 'last_accessed_date'], relationships={}, text='# FASTENER IDENTIFICATION\\n\\n# HEAD MARKINGS\\n\\n|STANDARD MAXIBOLT|OVERSIZE MAXIBOLT|MAXIBOLT PLUS|\\n|---|---|---|\\n|Sleeve Material Code|Sleeve Material Code| |\\n|Manufacturer’s Identification|Manufacturer’s Identification| |\\n| |Designates “Oversize”| |\\n|Grip Identification|Grip Identification| |\\n\\n1. Single digit marking is permissible for grip dash numbers less than 10\\n2. Sleeve Material\\n\\n# MAXIBOLT — STANDARD AND OVERSIZE\\n\\n|Material Code|Sleeve Material|\\n|---|---|\\n|C|Stainless Steel A-286 CRES, AMS 5737|\\n|MV or 7774|CP Titanium per ASTM - B348, Gr. 1|\\n|none|4037 Alloy Steel ASTM-A-331|\\n\\n# MAXIBOLT PLUS\\n\\n|Product Number|Material|Head Style|\\n|---|---|---|\\n|CR7680S|Stainless Steel|100° Flush Head (AN509)|\\n|CR7683S|Stainless Steel|Protruding Head|\\n|CR7684S|Stainless Steel|130° Flush Head|\\n|CR7686S|Stainless Steel|100° Flush Head (MS20426)|\\n|CR7784S|Titanium|130° Flush Head|', mimetype='text/plain', start_char_idx=None, end_char_idx=None, text_template='{metadata_str}\\n\\n{content}', metadata_template='{key}: {value}', metadata_seperator='\\n'), Document(id_='93025542-d70c-4b2c-ae39-aadb032191be', embedding=None, metadata={'file_path': '/Users/luchaojin/Library/CloudStorage/OneDrive-Personal/RAG Product/voice-rag/data/CA-1039.pdf', 'file_name': 'CA-1039.pdf', 'file_type': 'application/pdf', 'file_size': 986437, 'creation_date': '2024-09-25', 'last_modified_date': '2024-09-25'}, excluded_embed_metadata_keys=['file_name', 'file_type', 'file_size', 'creation_date', 'last_modified_date', 'last_accessed_date'], excluded_llm_metadata_keys=['file_name', 'file_type', 'file_size', 'creation_date', 'last_modified_date', 'last_accessed_date'], relationships={}, text='# FASTENER IDENTIFICATION\\n\\n# MILITARY PART NUMBER CROSS REFERENCE\\n\\n|Fastener|Diameter|Diameter|Diameter|Diameter|Riveter**|Nose Piece Type***| | | |\\n|---|---|---|---|---|---|---|\\n| |MS Part No.|Cherry Part No.|MS Part No.|Cherry Part No.| | |\\n|05|MS21140-05*|CR7620-05-*|MS90353-05*|CR7310-05-*|DA|N/A|\\n| |MS21140S05*|CR7620S-05-*|MS90353S05*|CR7310S-05-*|S|B or U|\\n| |MS21140U05*|CR7620U-05-*|MS90353U05*|CR7310U-05-*|S|U|\\n|5/32\" (0.164)|MS21141-05*|CR7621-05-*|MS90354-05*|CR7311-05-*|DA|N/A|\\n| |MS21141S05*|CR7621S-05-*|MS90354S05*|CR7311S-05-*|S|B or U|\\n| |MS21141U05*|CR7621U-05-*|MS90354U05*|CR7311U-05-*|S|U|\\n|Oversize 05|None|CR7650S-05-*|None|CR7340S-05-*|S|B or U|\\n|5/32” (0.179)|None|CR7651S-05-*|None|CR7341S-05-*|S|B or U|\\n|06|MS21140-06*|CR7620-06-*|MS90353-06*|CR7310-06-*|DA|N/A|\\n| |MS21140S06*|CR7620S-06-*|MS90353S06*|CR7310S-06-*|S|B or U|\\n| |MS21140U06*|CR7620U-06-*|MS90353U06*|CR7310U-06-*|S|U|\\n|3/16\" (0.199)|MS21141-06*|CR7621-06-*|MS90354-06*|CR7311-06-*|DA|N/A|\\n| |MS21141S06*|CR7621S-06-*|MS90354S06*|CR7311S-06-*|S|B or U|\\n| |MS21141U06*|CR7621U-06-*|MS90354U06*|CR7311U-06-*|S|U|\\n|Oversize 06|None|CR7650S-06-*|None|CR7340S-06-*|S|B or U|\\n|3/16\" (.215)|None|CR7651S-06-*|None|CR7341S-06-*|S|B or U|\\n|08|MS21140-08*|CR7620-08-*|MS90353-08*|CR7310-08-*|S|B or U|\\n| |MS21140U08*|CR7620U-08-*|MS90353U08*|CR7310U-08-*|S|U|\\n|1/4\" (0.260)|MS21141-08*|CR7621-08-*|MS90354-08*|CR7311-08-*|S|B or U|\\n| |MS21141U08*|CR7621U-08-*|MS90354U08*|CR7311U-08-*|S|U|\\n|Oversize 08|None|CR7650S-08-*|None|CR7340S-08-*|S|B or U|\\n|1/4\" (0.260)|None|CR7651S-08-*|None|CR7341S-08-*|S|B or U|\\n|10|MS21140-10*|CR7620-10-*|MS90353-10*|CR7620-10-*|S|B or U|\\n| |MS21140U10*|CR7620U-10-*|MS90353-10*|CR7620U-10-*|S|U|\\n|5/16\" (0.312)|MS21141-10*|CR7621-10-*|MS90354-10*|CR7621-10-*|S|B or U|\\n| |MS21141U10*|CR7621U-10-*|MS90354U10*|CR7621U-10-*|S|U|\\n|Oversize 10|None|CR7650S-10-*|None|CR7340S-10-*|S|B or U|\\n|5/16\" (0.328)|None|CR7651S-10-*|None|CR7341S-10-*|S|B or U|\\n\\n* Grip Length dash number — see page XXXX\\n\\n** Installation Riveter Codes: DA=Double Action, S=Single Action,\\n\\n***B - Blunt type; U - Special Nose\\n\\nP- Suffix to MS21140 and MS21141 indicates cadmium plate\\n\\nD- Suffix to MS90353 and MS90354 indicates aluminum IVD coating\\n\\nP- Suffix to Cherry Part No.for A286 CRES parts indicate cadmium plate\\n\\nD- Suffix to Cherry indicates aluminum IVD coating;\\n\\nNote: There is no cross-reference between the Cherry Titanium MAXIBOLT and any MS no.\\n\\nRefer to Page 22 for Installation Tool Selection Chart', mimetype='text/plain', start_char_idx=None, end_char_idx=None, text_template='{metadata_str}\\n\\n{content}', metadata_template='{key}: {value}', metadata_seperator='\\n'), Document(id_='e613f281-7dfd-4b8e-b9cd-af85e6fe0171', embedding=None, metadata={'file_path': '/Users/luchaojin/Library/CloudStorage/OneDrive-Personal/RAG Product/voice-rag/data/CA-1039.pdf', 'file_name': 'CA-1039.pdf', 'file_type': 'application/pdf', 'file_size': 986437, 'creation_date': '2024-09-25', 'last_modified_date': '2024-09-25'}, excluded_embed_metadata_keys=['file_name', 'file_type', 'file_size', 'creation_date', 'last_modified_date', 'last_accessed_date'], excluded_llm_metadata_keys=['file_name', 'file_type', 'file_size', 'creation_date', 'last_modified_date', 'last_accessed_date'], relationships={}, text='# FASTENER IDENTIFICATION\\n\\n# HOLE PREPARATION\\n\\n# BLIND BOLT HOLE DIAMETER LIMITS\\n\\n|Nominal Fastener Diameter|D Min|D Max|Recommended Drill Size|D Min|D Max|Recommended Drill Size|\\n|---|---|---|---|---|---|---|\\n|1/8 (-04)|.129|.132|#30|—|—|—|\\n|5/32 (-05)|.164|.167|#19|.180|.183|#14|\\n|3/16 (-06)|.199|.202|#7|.215|.218|5.5mm|\\n|1/4 (-08)|.260|.263|G|.276|.279|J|\\n|5/16 (-10)|.312|.315|5/16|.328|.331|21/64|\\n\\n# 100° COUNTERSINK DIMENSIONS\\n\\n|Fastener Diameter|Nominal and Oversize C Min|C Max|Maximum Radius or Chamfer B Max|\\n|---|---|---|---|\\n|1/8 (-04)|.222|.228|.015|\\n|5/32 (-05)|.327|.335|.020|\\n|3/16 (-06)|.380|.388|.025|\\n|1/4 (-08)|.500|.509|.030|\\n|5/16 (-10)|.627|.637|.035|\\n\\n# HOLE SIZE LIMITS\\n\\n|C (100°)|B (rad.)|No chamfer or radius on blind side|\\n|---|---|---|\\n|D| | |', mimetype='text/plain', start_char_idx=None, end_char_idx=None, text_template='{metadata_str}\\n\\n{content}', metadata_template='{key}: {value}', metadata_seperator='\\n'), Document(id_='be0fb61c-573d-43ac-920c-1639a703f768', embedding=None, metadata={'file_path': '/Users/luchaojin/Library/CloudStorage/OneDrive-Personal/RAG Product/voice-rag/data/CA-1039.pdf', 'file_name': 'CA-1039.pdf', 'file_type': 'application/pdf', 'file_size': 986437, 'creation_date': '2024-09-25', 'last_modified_date': '2024-09-25'}, excluded_embed_metadata_keys=['file_name', 'file_type', 'file_size', 'creation_date', 'last_modified_date', 'last_accessed_date'], excluded_llm_metadata_keys=['file_name', 'file_type', 'file_size', 'creation_date', 'last_modified_date', 'last_accessed_date'], relationships={}, text='# INSTALLATION AND INSPECTION\\n\\n# HOLE PREPARATION\\n\\n# DRILLING PROCEDURE\\n\\nUse a clean, sharp properly ground drill. Improperly ground drills will create oval or oversized holes.\\n\\n|Improperly Ground|Properly Ground|\\n|---|---|\\n|Center the drill in the chuck so that the drill will run true. A “wobble” in the drill will create an oversize hole.|Center the drill in the chuck so that the drill will run true. A “wobble” in the drill will create an oversize hole.|\\n\\nHold the drill perpendicular to the surface being drilled. Do not force the drill through the material.\\n\\n|90°|Wrong|\\n|---|---|\\n|To ensure proper hole alignment and to prevent burrs and chips from lodging between the sheets, the materials to be fastened should be clamped tightly together. Hole filling hollow “tack” rivets should be used in conjunction with spring-loaded fasteners to prevent material “creep” and hole misalignment during the drilling operation.|To ensure proper hole alignment and to prevent burrs and chips from lodging between the sheets, the materials to be fastened should be clamped tightly together. Hole filling hollow “tack” rivets should be used in conjunction with spring-loaded fasteners to prevent material “creep” and hole misalignment during the drilling operation.|\\n\\nRightSpring Loaded Clean “Tack” Hole RivetFastener\\n\\nWrongMisalignment Chips', mimetype='text/plain', start_char_idx=None, end_char_idx=None, text_template='{metadata_str}\\n\\n{content}', metadata_template='{key}: {value}', metadata_seperator='\\n'), Document(id_='63fcabce-1566-4cd3-9994-2a9e0cd84cc3', embedding=None, metadata={'file_path': '/Users/luchaojin/Library/CloudStorage/OneDrive-Personal/RAG Product/voice-rag/data/CA-1039.pdf', 'file_name': 'CA-1039.pdf', 'file_type': 'application/pdf', 'file_size': 986437, 'creation_date': '2024-09-25', 'last_modified_date': '2024-09-25'}, excluded_embed_metadata_keys=['file_name', 'file_type', 'file_size', 'creation_date', 'last_modified_date', 'last_accessed_date'], excluded_llm_metadata_keys=['file_name', 'file_type', 'file_size', 'creation_date', 'last_modified_date', 'last_accessed_date'], relationships={}, text='# INSTALLATION AND INSPECTION\\n\\n# HOLE PREPARATION\\n\\n# COUNTERSINKING\\n\\nAccurate countersinking is of primary importance to the structural integrity of a flush riveted joint. Standard countersinking procedures as used with solid rivets are also applicable to MAXIBOLT Rivets. The following points, however, should be carefully noted.\\n\\nThe countersink pilot should be no more than .001” smaller than the hole diameter. A greatly undersize pilot will produce a countersink which is not concentric with the hole, creating head gap problems.\\n\\nA countersink pilot which is too small may also create a countersink whose axis is not in line with the axis of the drilled hole. This will create a “cocked” rivet head condition.\\n\\n# HOLE MISALIGNMENT\\n\\nWhen drilling contoured surfaces, hole misalignment often becomes evident during fastener insertion. Avoid reinserting a drill into the hole to straighten it out. This may result in varying degrees of hole elongation on the blind side of the structure, which can lead to fastener malfunction. Drill the components together to avoid this condition.\\n\\n|.001\" max|Hole eccentricity tolerance|\\n|---|---|\\n|2.5° max| |\\n|.001\" max|.001\" max|\\n|Hole/Countersink angularity tolerance| |', mimetype='text/plain', start_char_idx=None, end_char_idx=None, text_template='{metadata_str}\\n\\n{content}', metadata_template='{key}: {value}', metadata_seperator='\\n'), Document(id_='f3049150-12c8-4319-a305-eb5a25a0f93b', embedding=None, metadata={'file_path': '/Users/luchaojin/Library/CloudStorage/OneDrive-Personal/RAG Product/voice-rag/data/CA-1039.pdf', 'file_name': 'CA-1039.pdf', 'file_type': 'application/pdf', 'file_size': 986437, 'creation_date': '2024-09-25', 'last_modified_date': '2024-09-25'}, excluded_embed_metadata_keys=['file_name', 'file_type', 'file_size', 'creation_date', 'last_modified_date', 'last_accessed_date'], excluded_llm_metadata_keys=['file_name', 'file_type', 'file_size', 'creation_date', 'last_modified_date', 'last_accessed_date'], relationships={}, text='INSTALLATION AND INSPECTION\\nHOLE PREPARATION\\nDE-BURRING\\nAll drilling operations cause\\nburrs to form on each end\\nof the hole being drilled, as   Remove Chips            Remove Burrs\\nwell as between the sheets.\\nWhenever possible, all\\nburrs should be removed.\\nDo not chamfer on blind\\nside of sheet as this will      Remove Chips            Remove Burrs\\naffect clamp-up during the       Poor                   Good\\ninstallation of the fastener.   Remove Chips            Remove Burrs\\n\\nWhen removing burrs, care                         Burr\\nmust be taken to remove          Poor                   Good\\nONLY the burr. Do not            Poor\\ncountersink the sheets, as                              Good\\nthis may materially affect the\\nstrength of the riveted joint,              Burr  Burr\\nparticularly with respect to\\nthe blind sheet.                                  Burr\\n\\n                                            Burr\\n\\n                                            Burr\\n\\n                                    10', mimetype='text/plain', start_char_idx=None, end_char_idx=None, text_template='{metadata_str}\\n\\n{content}', metadata_template='{key}: {value}', metadata_seperator='\\n'), Document(id_='6b2ad28c-2d45-40b0-8e88-06d999fa690f', embedding=None, metadata={'file_path': '/Users/luchaojin/Library/CloudStorage/OneDrive-Personal/RAG Product/voice-rag/data/CA-1039.pdf', 'file_name': 'CA-1039.pdf', 'file_type': 'application/pdf', 'file_size': 986437, 'creation_date': '2024-09-25', 'last_modified_date': '2024-09-25'}, excluded_embed_metadata_keys=['file_name', 'file_type', 'file_size', 'creation_date', 'last_modified_date', 'last_accessed_date'], excluded_llm_metadata_keys=['file_name', 'file_type', 'file_size', 'creation_date', 'last_modified_date', 'last_accessed_date'], relationships={}, text='# INSTALLATION AND INSPECTION\\n\\n# CHERRY MAXIBOLT GRIP GAGE\\n\\n|GAGE|Grip Range|\\n|---|---|\\n|222444269B12|0.062|\\n|GAGE666|0.062|\\n\\n# MEASURING THE PROPER GRIP LENGTH\\n\\n|Dash No.|Min|Max|\\n|---|---|---|\\n|01|0.031|0.095|\\n|02|0.094|0.157|\\n|03|0.156|0.220|\\n|04|0.219|0.282|\\n|05|0.281|0.345|\\n|06|0.344|0.407|\\n|07|0.406|0.470|\\n|08|0.469|0.532|\\n|09|0.531|0.595|\\n|10|0.594|0.657|\\n|11|0.656|0.720|\\n|12|0.719|0.782|\\n|13|0.781|0.845|\\n|14|0.844|0.907|\\n|15|0.906|0.970|\\n|16|0.969|1.032|\\n\\n# PROTRUDING HEAD\\n\\nCorrect blind bolt grip is -02, since grip range of -02 MAXIBOLT is 0.094 to 0.154.\\n\\n# MACHINE COUNTERSUNK\\n\\nRead correct blind bolt grip to the top of the sheet. Grip is sheet thickness plus blind bolt head height. In this example, grip is -04 since range of -04 MAXIBOLT is 0.219 to 0.282.\\n\\nNote: Grip gage and grip ranges shown do not apply to Titanium MAXIBOLT or MAXIBOLT Plus fasteners. For grip ranges of these fasteners, see applicable part number Standard Page or contact Cherry Aerospace.', mimetype='text/plain', start_char_idx=None, end_char_idx=None, text_template='{metadata_str}\\n\\n{content}', metadata_template='{key}: {value}', metadata_seperator='\\n'), Document(id_='2a115bc8-5839-4ed6-816c-9c0b18983711', embedding=None, metadata={'file_path': '/Users/luchaojin/Library/CloudStorage/OneDrive-Personal/RAG Product/voice-rag/data/CA-1039.pdf', 'file_name': 'CA-1039.pdf', 'file_type': 'application/pdf', 'file_size': 986437, 'creation_date': '2024-09-25', 'last_modified_date': '2024-09-25'}, excluded_embed_metadata_keys=['file_name', 'file_type', 'file_size', 'creation_date', 'last_modified_date', 'last_accessed_date'], excluded_llm_metadata_keys=['file_name', 'file_type', 'file_size', 'creation_date', 'last_modified_date', 'last_accessed_date'], relationships={}, text='# INSTALLATION AND INSPECTION\\n\\n# PROPER SEALANT APPLICATION\\n\\nBlind bolts depend on a balance of lubricity to friction, compression and radial expansion during installation. In the manufacturing process, lubricants are typically used to ensure the blind bolt installs correctly. Sealant should be applied ONLY around the bolt sleeve (see illustration). It is critical that the sealant does not touch the exposed areas of the stem.\\n\\nWhen sealant is applied to the fastener incorrectly, two conditions may occur. Either the stem of the fastener will pull high or all the way through the bolt sleeve, or the stem will break prematurely and will be too deep in the bolt sleeve to be properly locked by the lock collar. In either case, the bolt must be removed and replaced. Initial care in the application of sealant will eliminate this replacement process.\\n\\nDO NOT Apply sealant here ONLY to these areas', mimetype='text/plain', start_char_idx=None, end_char_idx=None, text_template='{metadata_str}\\n\\n{content}', metadata_template='{key}: {value}', metadata_seperator='\\n'), Document(id_='d8b0ac1d-b8de-4def-bf3e-d2ead22861d2', embedding=None, metadata={'file_path': '/Users/luchaojin/Library/CloudStorage/OneDrive-Personal/RAG Product/voice-rag/data/CA-1039.pdf', 'file_name': 'CA-1039.pdf', 'file_type': 'application/pdf', 'file_size': 986437, 'creation_date': '2024-09-25', 'last_modified_date': '2024-09-25'}, excluded_embed_metadata_keys=['file_name', 'file_type', 'file_size', 'creation_date', 'last_modified_date', 'last_accessed_date'], excluded_llm_metadata_keys=['file_name', 'file_type', 'file_size', 'creation_date', 'last_modified_date', 'last_accessed_date'], relationships={}, text='# INSTALLATION AND INSPECTION\\n\\n# MAXIBOLT\\n\\n# INSTALLATION\\n\\n# PLACING THE MAXIBOLT IN THE HOLE\\n\\nThe holes in the sheets to be fastened must be of correct size and aligned properly. Do not force the bolt into the hole! “Tack Rivets” and/or spring loaded fasteners are recommended to minimize material creep and sheet gap.\\n\\n|Wrong|Misaligned|Maxibolt|\\n|---|---|---|\\n|Installation Alignment|Installation Alignment|Installation Alignment|\\n\\n# PLACING THE PULLING HEAD ON THE MAXIBOLT STEM\\n\\nHold the installation tool and pulling head in line with the axis of the bolt. Press firmly against head of bolt to minimize head gapping and sheet gap.\\n\\n|Wrong|Misaligned|Maxibolt|\\n|---|---|---|\\n|Position of Pulling Head on MAXIBOLT|Position of Pulling Head on MAXIBOLT|Position of Pulling Head on MAXIBOLT|\\n\\n# Pulling Head\\n\\nPulling Head Insert\\n\\n|“S” Type|“U” Type|\\n|---|---|\\n|“S” Type|“U” Type|', mimetype='text/plain', start_char_idx=None, end_char_idx=None, text_template='{metadata_str}\\n\\n{content}', metadata_template='{key}: {value}', metadata_seperator='\\n'), Document(id_='3a83ff6a-244e-4618-9800-70af06cc61b3', embedding=None, metadata={'file_path': '/Users/luchaojin/Library/CloudStorage/OneDrive-Personal/RAG Product/voice-rag/data/CA-1039.pdf', 'file_name': 'CA-1039.pdf', 'file_type': 'application/pdf', 'file_size': 986437, 'creation_date': '2024-09-25', 'last_modified_date': '2024-09-25'}, excluded_embed_metadata_keys=['file_name', 'file_type', 'file_size', 'creation_date', 'last_modified_date', 'last_accessed_date'], excluded_llm_metadata_keys=['file_name', 'file_type', 'file_size', 'creation_date', 'last_modified_date', 'last_accessed_date'], relationships={}, text='# INSTALLATION AND INSPECTION\\n\\n# MAXIBOLT INSTALLATION (CONTINUED)\\n\\nHold the riveter perpendicular to the work piece as accurately as possible. Apply a steady, firm pressure and pull the trigger. The MAXIBOLT clamping action will hold the sheets together, seat the head and break the stem flush with the head of the MAXIBOLT.\\n\\nWhen the MAXIBOLT is completely installed, release the trigger and the stem will be passed through the riveter head. A stem catcher bag may be obtained to collect the spent stems.\\n\\n14', mimetype='text/plain', start_char_idx=None, end_char_idx=None, text_template='{metadata_str}\\n\\n{content}', metadata_template='{key}: {value}', metadata_seperator='\\n'), Document(id_='7d2e7e1c-a6e6-4f62-b624-146c61001d1f', embedding=None, metadata={'file_path': '/Users/luchaojin/Library/CloudStorage/OneDrive-Personal/RAG Product/voice-rag/data/CA-1039.pdf', 'file_name': 'CA-1039.pdf', 'file_type': 'application/pdf', 'file_size': 986437, 'creation_date': '2024-09-25', 'last_modified_date': '2024-09-25'}, excluded_embed_metadata_keys=['file_name', 'file_type', 'file_size', 'creation_date', 'last_modified_date', 'last_accessed_date'], excluded_llm_metadata_keys=['file_name', 'file_type', 'file_size', 'creation_date', 'last_modified_date', 'last_accessed_date'], relationships={}, text='# MAXIBOLT INSPECTION & TROUBLE SHOOTING\\n\\nInspection for proper installation of the Cherry MAXIBOLT can be made from the visible side of the work. The installation condition outlined below can be used to determine whether a malfunction has been caused by:\\n\\n- Worker error\\n- Incorrect hole preparation\\n- Incorrect fastener selection\\n- Improper tool function\\n\\n# MALFUNCTION CHARACTERISTICS\\n\\nMalfunction of the Blind Bolt may be recognized by and identified as:\\n\\n1. High Stem\\n2. Low Stem\\n3. Low Collar\\n4. High Collar\\n5. Head not seated\\n\\n# STEM POSITION\\n\\nA maxA max\\n\\nLow stem protrusionLow stem protrusion\\n\\nC maxC max\\n\\nBlind head diameter diameter\\n\\nHIGH STEM\\n\\nLOW STEM\\n\\nFlush Head Flush Head .002\" feeler gage .002\" feeler gage Protruding head .002\" feeler gage .002\" feeler gage', mimetype='text/plain', start_char_idx=None, end_char_idx=None, text_template='{metadata_str}\\n\\n{content}', metadata_template='{key}: {value}', metadata_seperator='\\n'), Document(id_='77558e38-f244-454d-a94d-8310ead49bac', embedding=None, metadata={'file_path': '/Users/luchaojin/Library/CloudStorage/OneDrive-Personal/RAG Product/voice-rag/data/CA-1039.pdf', 'file_name': 'CA-1039.pdf', 'file_type': 'application/pdf', 'file_size': 986437, 'creation_date': '2024-09-25', 'last_modified_date': '2024-09-25'}, excluded_embed_metadata_keys=['file_name', 'file_type', 'file_size', 'creation_date', 'last_modified_date', 'last_accessed_date'], excluded_llm_metadata_keys=['file_name', 'file_type', 'file_size', 'creation_date', 'last_modified_date', 'last_accessed_date'], relationships={}, text='# MAXIBOLT INSPECTION & TROUBLESHOOTING\\n\\n# STEM POSITIONS\\n\\n# ALLOY STEEL POSITIONS\\n\\n|Fastener Diameter|A Max Acceptable Stem Protrusion Limits|C Max Acceptable Stem Recession Limits(2)|Blind Head Minimum Diameter|\\n|---|---|---|---|\\n|5/32 (05)|0.020| |0.195|\\n|3/16 (06)|0.024|.000|0.238|\\n|1/4 (08)|0.030| |0.315|\\n|5/16 (10)|0.038| |.0373|\\n\\n(1) Per NASM 81177.\\n\\n(2) Stem nominal fracture surface may not recede below top of fastener head.\\n\\n# STAINLESS STEEL STEM POSITIONS(3)\\n\\n|Fastener Diameter|A Max Acceptable Stem Protrusion Limits|C Max Acceptable Stem Recession Limits|Blind Head Minimum Diameter|\\n|---|---|---|---|\\n|1/8 (04)|0.010|0.010|0.154|\\n|5/32 (05)|0.010|0.010|0.195|\\n|3/16 (06)|0.010|0.010|0.238|\\n|1/4 (08)|0.015|0.015|0.315|\\n|5/16 (10)|0.020|0.020|0.373|\\n\\n(3) Per NASM 8975\\n\\n# TITANIUM STEM POSITIONS(4)\\n\\n|Fastener Diameter|A Max Acceptable Stem Protrusion Limits|C Max Acceptable Stem Recession Limits|Blind Head Minimum Diameter|\\n|---|---|---|---|\\n|1/8 (04)|0.010|0.010|0.185|\\n|5/32 (05)|0.010|0.010|0.235|\\n|3/16 (06)|0.010|0.010|0.275|\\n|1/4 (08)|0.015|0.015|0.350|\\n\\n(4) Per Cherry Aerospace specification PS-CMB-7000', mimetype='text/plain', start_char_idx=None, end_char_idx=None, text_template='{metadata_str}\\n\\n{content}', metadata_template='{key}: {value}', metadata_seperator='\\n'), Document(id_='e30ee596-548c-4d49-bd1a-43d898542e7d', embedding=None, metadata={'file_path': '/Users/luchaojin/Library/CloudStorage/OneDrive-Personal/RAG Product/voice-rag/data/CA-1039.pdf', 'file_name': 'CA-1039.pdf', 'file_type': 'application/pdf', 'file_size': 986437, 'creation_date': '2024-09-25', 'last_modified_date': '2024-09-25'}, excluded_embed_metadata_keys=['file_name', 'file_type', 'file_size', 'creation_date', 'last_modified_date', 'last_accessed_date'], excluded_llm_metadata_keys=['file_name', 'file_type', 'file_size', 'creation_date', 'last_modified_date', 'last_accessed_date'], relationships={}, text='# MAXIBOLT INSPECTION STEM POSITIONS\\n\\n# HIGH STEM\\n\\nProbable causes for high stem break are:\\n\\n- Oversize hole\\n- Overgrip fastener\\n- Broken or worn down driving inner anvil\\n\\n# LOW STEM\\n\\nProbable causes for low stem break are:\\n\\n- Undergrip fastener\\n- Misaligned holes\\n- Shallow, countersink for flush head\\n- Blind side sheet angle over 5°.\\n\\n17', mimetype='text/plain', start_char_idx=None, end_char_idx=None, text_template='{metadata_str}\\n\\n{content}', metadata_template='{key}: {value}', metadata_seperator='\\n'), Document(id_='53c847c6-9ea2-47a5-988f-f26c44fe1ccb', embedding=None, metadata={'file_path': '/Users/luchaojin/Library/CloudStorage/OneDrive-Personal/RAG Product/voice-rag/data/CA-1039.pdf', 'file_name': 'CA-1039.pdf', 'file_type': 'application/pdf', 'file_size': 986437, 'creation_date': '2024-09-25', 'last_modified_date': '2024-09-25'}, excluded_embed_metadata_keys=['file_name', 'file_type', 'file_size', 'creation_date', 'last_modified_date', 'last_accessed_date'], excluded_llm_metadata_keys=['file_name', 'file_type', 'file_size', 'creation_date', 'last_modified_date', 'last_accessed_date'], relationships={}, text='# MAXIBOLT INSPECTION\\n\\n# COLLAR POSITION\\n\\n|Fastener Diameter|LOW COLLAR|LOW COLLAR|HIGH COLLAR|HIGH COLLAR| | |\\n|---|---|---|---|---|\\n| |B Max|C Max|Diameter|C Max|\\n|5/32 (05)|0.017|0.017|1/8 (04)|0.015|\\n|3/16 (06)|0.022|0.022|5/32 (05)|0.017|\\n|1/4 (08)|0.029|0.029|3/32 (06)|0.022|\\n|5/16 (10)|0.037|0.037|1/4 (08)|0.029|\\n| | | |5/16 (10)|0.037|\\n\\n(1) Per NASM81177\\n\\n(2) Per NASM8975 and Cherry Aerospace PS-CMB-7000', mimetype='text/plain', start_char_idx=None, end_char_idx=None, text_template='{metadata_str}\\n\\n{content}', metadata_template='{key}: {value}', metadata_seperator='\\n'), Document(id_='adf96116-c199-46a6-b0d3-100a4bb56e6c', embedding=None, metadata={'file_path': '/Users/luchaojin/Library/CloudStorage/OneDrive-Personal/RAG Product/voice-rag/data/CA-1039.pdf', 'file_name': 'CA-1039.pdf', 'file_type': 'application/pdf', 'file_size': 986437, 'creation_date': '2024-09-25', 'last_modified_date': '2024-09-25'}, excluded_embed_metadata_keys=['file_name', 'file_type', 'file_size', 'creation_date', 'last_modified_date', 'last_accessed_date'], excluded_llm_metadata_keys=['file_name', 'file_type', 'file_size', 'creation_date', 'last_modified_date', 'last_accessed_date'], relationships={}, text='# MAXIBOLT INSPECTION\\n\\n# COLLAR POSITION\\n\\nLow collar position in excess of the maximum limit are probably caused by:\\n\\n- Excessive sheet gap\\n- Over maximum grip\\n- Incorrect shift pressure on double action tool\\n\\nHigh collar position in excess of maximum limit are probably caused by:\\n\\n- Installation tool being tipped during driving cycle\\n- Interference between installation tool and some adjoining member, forcing tool out-of-sequence\\n- Inner anvil missing on double action tool\\n- Broken or worn anvil\\n- Shift pressure too high on double action tool\\n- Blind side angle over 5°.\\n\\n19', mimetype='text/plain', start_char_idx=None, end_char_idx=None, text_template='{metadata_str}\\n\\n{content}', metadata_template='{key}: {value}', metadata_seperator='\\n'), Document(id_='ece96077-82a9-4267-b1f7-0fd36952c32f', embedding=None, metadata={'file_path': '/Users/luchaojin/Library/CloudStorage/OneDrive-Personal/RAG Product/voice-rag/data/CA-1039.pdf', 'file_name': 'CA-1039.pdf', 'file_type': 'application/pdf', 'file_size': 986437, 'creation_date': '2024-09-25', 'last_modified_date': '2024-09-25'}, excluded_embed_metadata_keys=['file_name', 'file_type', 'file_size', 'creation_date', 'last_modified_date', 'last_accessed_date'], excluded_llm_metadata_keys=['file_name', 'file_type', 'file_size', 'creation_date', 'last_modified_date', 'last_accessed_date'], relationships={}, text='# MAXIBOLT INSPECTION\\n\\n# Flush Head\\n\\n.002\" feeler gage\\n\\nProtruding head\\n\\n.002\" feeler gage\\n\\n# HEAD NOT SEATED\\n\\nImproperly seated heads are probably caused by:\\n\\n- Misaligned or slanted hole\\n- Installation tool tipped during driving cycle\\n- Blind side angle over 5°\\n- Hole too small for extruding sleeve\\n- Bad countersink\\n\\n.002” gap permissible for 40% of fastener head diameter and must not penetrate to fastener shank.', mimetype='text/plain', start_char_idx=None, end_char_idx=None, text_template='{metadata_str}\\n\\n{content}', metadata_template='{key}: {value}', metadata_seperator='\\n'), Document(id_='ee05566b-c39e-462d-8c70-e2e00aedb656', embedding=None, metadata={'file_path': '/Users/luchaojin/Library/CloudStorage/OneDrive-Personal/RAG Product/voice-rag/data/CA-1039.pdf', 'file_name': 'CA-1039.pdf', 'file_type': 'application/pdf', 'file_size': 986437, 'creation_date': '2024-09-25', 'last_modified_date': '2024-09-25'}, excluded_embed_metadata_keys=['file_name', 'file_type', 'file_size', 'creation_date', 'last_modified_date', 'last_accessed_date'], excluded_llm_metadata_keys=['file_name', 'file_type', 'file_size', 'creation_date', 'last_modified_date', 'last_accessed_date'], relationships={}, text='# MAXIBOLT REMOVAL\\n\\nShould it be necessary to remove an installed MAXIBOLT, the following procedures are recommended:\\n\\n1. Center punch, center drill.\\n2. It is recommended that a small center drill be used to provide a guide for a larger drill on top of the blind bolt stem, and the upper portion of the stem be drilled away to destroy the lock.\\n3. Drive out the stem using a punch pin.\\n4. Drill into blind bolt head avoiding contact with the top sheet material.\\n5. Break off the blind bolt head using a punch pin as a pry.\\n6. Drive out the remaining blind bolt shank with a punch pin having a diameter equal to the bolt shank.\\n\\nCAUTION — DO NOT drill completely through the head or the sleeve to remove a blind bolt as this will enlarge the hole.\\n\\n21', mimetype='text/plain', start_char_idx=None, end_char_idx=None, text_template='{metadata_str}\\n\\n{content}', metadata_template='{key}: {value}', metadata_seperator='\\n'), Document(id_='2607e9b5-b749-465b-b5a6-38422840d35a', embedding=None, metadata={'file_path': '/Users/luchaojin/Library/CloudStorage/OneDrive-Personal/RAG Product/voice-rag/data/CA-1039.pdf', 'file_name': 'CA-1039.pdf', 'file_type': 'application/pdf', 'file_size': 986437, 'creation_date': '2024-09-25', 'last_modified_date': '2024-09-25'}, excluded_embed_metadata_keys=['file_name', 'file_type', 'file_size', 'creation_date', 'last_modified_date', 'last_accessed_date'], excluded_llm_metadata_keys=['file_name', 'file_type', 'file_size', 'creation_date', 'last_modified_date', 'last_accessed_date'], relationships={}, text='# INSTALLATION TOOL SELECTION CHART\\n\\n# CHERRY MAXIBOLT® INTERCHANGEABILITY\\n\\n|Head Style|Material|Cherry Part Number|MS Part Number|\\n|---|---|---|---|\\n|Flush Head|Alloy Steel|CR7310S|MS90353S|\\n| | |CR7310U|MS90353U|\\n| | |CR7310|MS90353|\\n|Protruding Head|Alloy Steel|CR7311S|MS90354S|\\n| | |CR7311U|MS90354U|\\n| | |CR7311|MS90354|\\n|Flush Head|A-286 CRES|CR7620S|MS21140S|\\n| | |CR7620U|MS21140U|\\n| | |CR7620|MS21140|\\n|Protruding Head|A-286 CRES|CR7621S|MS21141S|\\n| | |CR7621U|MS21141U|\\n| | |CR7621|MS21141|\\n\\n# CHERRY MAXIBOLT® PLUS\\n\\n# CHERRY OVERSIZE MAXIBOLT®\\n\\n|Head Style|Material|Cherry Part Number|Head Style|Material|Cherry Part Number|\\n|---|---|---|---|---|---|\\n|100° Flush Head|Stainless Steel|CR7680S|Flush|Alloy Steel|CR7340S|\\n|Protruding Head|Stainless Steel|CR7683S|Protruding|Alloy Steel|CR7341S|\\n|130° Flush Head|Stainless Steel|CR7684S|Flush|A-286 CRES|CR7650S|\\n|100° Flush Head|Stainless Steel|CR7686S|Protruding|A-286 CRES|CR7651S|\\n|130° Flush Head|Titanium|CR7784S| | | |\\n\\n# MECHANICAL PROPERTIES\\n\\n|Diameter|Single Shear - lbs.|Tensile - lbs.|Alloy Steel|A-286|\\n|---|---|---|---|---|\\n|-04|—|1222|—|675|\\n|-05|2340|1980|1350|1150|\\n|-06|3450|2925|2100|1690|\\n|-08|5900|5000|3650|2900|\\n|-10|8500|7200|5200|4170|', mimetype='text/plain', start_char_idx=None, end_char_idx=None, text_template='{metadata_str}\\n\\n{content}', metadata_template='{key}: {value}', metadata_seperator='\\n'), Document(id_='259b55e7-9a79-49c2-bda9-6840531306c3', embedding=None, metadata={'file_path': '/Users/luchaojin/Library/CloudStorage/OneDrive-Personal/RAG Product/voice-rag/data/CA-1039.pdf', 'file_name': 'CA-1039.pdf', 'file_type': 'application/pdf', 'file_size': 986437, 'creation_date': '2024-09-25', 'last_modified_date': '2024-09-25'}, excluded_embed_metadata_keys=['file_name', 'file_type', 'file_size', 'creation_date', 'last_modified_date', 'last_accessed_date'], excluded_llm_metadata_keys=['file_name', 'file_type', 'file_size', 'creation_date', 'last_modified_date', 'last_accessed_date'], relationships={}, text='# INSTALLATION TOOL SELECTION CHART\\n\\nThe tooling and pulling head combinations shown in the chart below will install the diameter MAXIBOLTs indicated by the shaded areas, in all grip lengths, head styles and materials. Cherry shift washer style only. (For “U” and “-“ type MAXIBOLT installation tooling, please contact Cherry Aerospace at 714-545-5511 or at the address listed on the back cover of this catalog.)\\n\\nRiveter Model\\nPulling Capacity\\nHeight Inches\\nDia. Inches\\nWeight Lbs.\\nPulling Head\\n1/8\"\\n5/32\"\\n3/16\"\\n1/4\"\\n5/16\"\\n\\nG704B\\n3136\\n11.0\\n4.9\\n4.5\\nH781-456\\nH782\\n\\nG747\\n2100\\n11.37\\n4.56\\n3.5\\nH781-456\\nH782\\n\\nG750A\\n3800\\n6.4\\nN/A\\n1.9\\nH782 (1)\\nH753A-456 (1)\\n\\nG83\\n3750\\n11.5\\n4.9\\n4.7\\nH83B-5MB\\n\\nG744\\n3800\\n12.6\\n6.25\\n7.0\\nH744-5MB\\n\\nG84\\n5750\\n13.25\\n6.25\\n7.7\\nH84A-8MB\\n\\nG85D-S\\n6500\\n15.25\\n6.0\\n10.5\\nH652-8MB\\n\\nG87D\\n9400\\n15.25\\n6.0\\n10.5\\nH652-8MB\\n\\n(1) Requires 750A-088 adapter. (2) Requires 744-300 adapter. (3) For 5/16\" MAXIBOLT installation tooling contact Cherry Aerospace.\\n\\n# MAXIBOLT PLUS\\n\\nInstallation Tool\\nPulling Head\\nFastener Diameter\\n\\nG83\\nH84B-568\\n-05, -06\\n\\nG84\\nH84B-568\\n-05, -06, -08', mimetype='text/plain', start_char_idx=None, end_char_idx=None, text_template='{metadata_str}\\n\\n{content}', metadata_template='{key}: {value}', metadata_seperator='\\n'), Document(id_='448330d0-d2a4-4a16-9767-43371049e48e', embedding=None, metadata={'file_path': '/Users/luchaojin/Library/CloudStorage/OneDrive-Personal/RAG Product/voice-rag/data/CA-1039.pdf', 'file_name': 'CA-1039.pdf', 'file_type': 'application/pdf', 'file_size': 986437, 'creation_date': '2024-09-25', 'last_modified_date': '2024-09-25'}, excluded_embed_metadata_keys=['file_name', 'file_type', 'file_size', 'creation_date', 'last_modified_date', 'last_accessed_date'], excluded_llm_metadata_keys=['file_name', 'file_type', 'file_size', 'creation_date', 'last_modified_date', 'last_accessed_date'], relationships={}, text='# DECIMAL EQUIVALENT CHART\\n\\n|NOM. SIZE|M/M|DECIMAL|NOM. SIZE|M/M|DECIMAL|NOM. SIZE|M/M|DECIMAL|NOM. SIZE|M/M|DECIMAL|\\n|---|---|---|---|---|---|---|---|---|---|---|---|\\n|—|.1|.0039|45|—|.0820|5|—|.2055|7/16|—|.4375|\\n|—|.2|.0079|44|—|.0860|4|—|.2090|29/64|—|.4531|\\n|—|.3|.0118|43|—|.0890|3|—|.2130|15/32|—|.4687|\\n|80|—|.0135|42|—|.0935|7/32|—|.2187|—|12.|.4724|\\n|79|—|.0145|3/32|—|.0937|2|—|.2210|31/64|—|.4844|\\n|1/64|—|.0156|41|—|.0960|1|—|.2280|1/2|—|.5000|\\n|—|.4|.0157|40|—|.0980|A|—|.2340|—|13.|.5118|\\n|78|—|.0160|39|—|.0995|15/64|—|.2344|33/64|—|.5156|\\n|77|—|.0180|38|—|.1015|—|6.|.2362|17/32|—|.5312|\\n|—|.5|.0197|37|—|.1040|B|—|.2380|35/64|—|.5469|\\n|76|—|.0200|36|—|.1065|C|—|.2420|—|14.|.5512|\\n|75|—|.0210|7/64|—|.1094|D|—|.2460|9/16|—|.5625|\\n|74|—|.0225|35|—|.1100|1/4|—|.2500|37/64|—|.5781|\\n|—|.6|.0236|34|—|.1110|E|—|.2500|—|15.|.5906|\\n|73|—|.0240|33|—|.1130|F|—|.2570|19/32|—|.5937|\\n|72|—|.0250|32|—|.1160|0|—|.2610|39/64|—|.6094|\\n|71|—|.0260|—|3.|.1181|17/64|—|.2656|5/8|—|.6250|\\n|—|.7|.0276|31|—|.1200|H|—|.2660|—|16.|.6299|\\n|70|—|.0280|1/8|—|.1250|1|—|.2720|41/64|—|.6406|\\n|69|—|.0292|30|—|.1285|—|7.|.2756|21/32|—|.6562|\\n|68|—|.0310|29|—|.1360|1|—|.2770|—|17.|.6693|\\n|1/32|—|.0312|28|—|.1405|K|—|.2810|43/64|—|.6719|\\n|—|.8|.0315|9/64|—|.1406|9/32|—|.2812|11/16|—|.6875|\\n|67|—|.0320|27|—|.1440|L|—|.2900|14/64|—|.7031|\\n|66|—|.0330|26|—|.1470|M|—|.2950|—|18.|.7087|\\n|65|—|.0350|25|—|.1495|19/64|—|.2969|23/32|—|.7187|', mimetype='text/plain', start_char_idx=None, end_char_idx=None, text_template='{metadata_str}\\n\\n{content}', metadata_template='{key}: {value}', metadata_seperator='\\n'), Document(id_='f11ffb66-ce5b-4721-ba7e-390f968fe05b', embedding=None, metadata={'file_path': '/Users/luchaojin/Library/CloudStorage/OneDrive-Personal/RAG Product/voice-rag/data/CA-1039.pdf', 'file_name': 'CA-1039.pdf', 'file_type': 'application/pdf', 'file_size': 986437, 'creation_date': '2024-09-25', 'last_modified_date': '2024-09-25'}, excluded_embed_metadata_keys=['file_name', 'file_type', 'file_size', 'creation_date', 'last_modified_date', 'last_accessed_date'], excluded_llm_metadata_keys=['file_name', 'file_type', 'file_size', 'creation_date', 'last_modified_date', 'last_accessed_date'], relationships={}, text='# NOM.\\n\\n\\n# NOM.\\n\\n# NOM.\\n\\n|SIZE|M/M|DECIMAL|SIZE|M/M|DECIMAL|SIZE|M/M|DECIMAL|SIZE|M/M|DECIMAL|\\n|---|---|---|---|---|---|---|---|---|---|---|---|\\n|—|.9|.0354|24|—|.1520|N|—|.3020|47/64|—|.7344|\\n|64|—|.0360|23|—|.1540|5/16|—|.3125|—|19.|.7480|\\n|63|—|.0370|5/32|—|.1562|—|8.|.3150|3/4|—|.7500|\\n|62|—|.0380|22|—|.1570|0|—|.3160|49/64|—|.7656|\\n|61|—|.0390|—|4.|.1575|P|—|.3230|25/32|—|.7812|\\n|—|1.|.0394|21|—|.1590|21/64|—|.3281|—|20.|.7874|\\n|60|—|.0400|20|—|.1610|0|—|.3320|51/64|—|.7969|\\n|59|—|.0410|19|—|.1660|P|—|.3390|13/16|—|.8125|\\n|58|—|.0420|18|—|.1695|11/32|—|.3437|—|21.|.8268|\\n|57|—|.0430|11/64|—|.1719|S|—|.3480|53/64|—|.8281|\\n|56|—|.0465|17|—|.1730|—|9.|.3543|27/32|—|.8437|\\n|3/64|—|.0469|16|—|.1770|T|—|.3580|55/64|—|.8594|\\n|55|—|.0520|15|—|.1800|23/64|—|.3594|—|22.|.8661|\\n|54|—|.0550|14|—|.1820|U|—|.3680|7/8|—|.8750|\\n|53|—|.0595|13|—|.1850|3/8|—|.3750|57/64|—|.8906|\\n|1/16|—|.0625|3/16|—|.1875|V|—|.3770|—|23.|.9055|\\n|52|—|.0635|12|—|.1890|W|—|.3860|29/32|—|.9062|\\n|51|—|.0670|11|—|.1910|25/64|—|.3906|59/64|—|.9219|\\n|50|—|.0700|10|—|.1935|—|10.|.3937|15/16|—|.9375|\\n|49|—|.0730|9|—|.1960|X|—|.3970|—|24.|.9449|\\n|48|—|.0760|—|5.|.1968|V|—|.4040|61/64|—|.9531|\\n|5/64|—|.0781|8|—|.1990|13/32|—|.4062|31/32|—|.9687|\\n|47|—|.0785|7|—|.2010|Z|—|.4130|—|25.|.9842|\\n|—|2.|.0787|13/64|—|.2031|27/64|—|.4219|•63/64|—|.9844|\\n|46|—|.0810|6|—|.2040|—|11.|.4331|1|25.4|1.000|', mimetype='text/plain', start_char_idx=None, end_char_idx=None, text_template='{metadata_str}\\n\\n{content}', metadata_template='{key}: {value}', metadata_seperator='\\n'), Document(id_='beceb587-5e40-416a-9e58-c88037cb0b01', embedding=None, metadata={'file_path': '/Users/luchaojin/Library/CloudStorage/OneDrive-Personal/RAG Product/voice-rag/data/CA-1039.pdf', 'file_name': 'CA-1039.pdf', 'file_type': 'application/pdf', 'file_size': 986437, 'creation_date': '2024-09-25', 'last_modified_date': '2024-09-25'}, excluded_embed_metadata_keys=['file_name', 'file_type', 'file_size', 'creation_date', 'last_modified_date', 'last_accessed_date'], excluded_llm_metadata_keys=['file_name', 'file_type', 'file_size', 'creation_date', 'last_modified_date', 'last_accessed_date'], relationships={}, text='1224 East Warner Avenue, Santa Ana, CA 92705\\n\\n©2009 Cherry Aerospace\\n\\nvoice: 714-545-5511 • fax: 714-850-6093\\n\\nSuppliers Federal I.D. Code 11815\\n\\nwww.cherryaerospace.com\\n\\nCA-1039 Rev A Date: 1-8-15 CR#: 14-1100', mimetype='text/plain', start_char_idx=None, end_char_idx=None, text_template='{metadata_str}\\n\\n{content}', metadata_template='{key}: {value}', metadata_seperator='\\n')]\n"
     ]
    }
   ],
   "source": [
    "# bring in our LLAMA_CLOUD_API_KEY\n",
    "from dotenv import load_dotenv\n",
    "import os\n",
    "_ = load_dotenv('.env')\n",
    "llamaparse_api = os.environ['LLAMA_CLOUD_API_KEY']\n",
    "import nest_asyncio\n",
    "\n",
    "nest_asyncio.apply()\n",
    "\n",
    "# bring in deps\n",
    "from llama_parse import LlamaParse\n",
    "from llama_index.core import SimpleDirectoryReader\n",
    "\n",
    "# set up parser\n",
    "parser = LlamaParse(\n",
    "    api_key=llamaparse_api,\n",
    "    result_type=\"markdown\",  # \"markdown\" and \"text\" are available\n",
    "    verbose=True\n",
    ")\n",
    "\n",
    "file = \"/Users/luchaojin/Library/CloudStorage/OneDrive-Personal/RAG Product/voice-rag/data/CA-1039.pdf\"\n",
    "\n",
    "# use SimpleDirectoryReader to parse our file\n",
    "file_extractor = {\".pdf\": parser}\n",
    "documents = SimpleDirectoryReader(input_files=[file], file_extractor=file_extractor).load_data()\n",
    "print(documents)"
   ]
  },
  {
   "cell_type": "code",
   "execution_count": null,
   "metadata": {},
   "outputs": [],
   "source": [
    "documents_update = []\n",
    "for index, document in enumerate(documents):\n",
    "    document.metadata.update({\"page_number\": index+1})\n",
    "    #print(document.metadata)\n",
    "    documents_update.append(document)"
   ]
  },
  {
   "cell_type": "code",
   "execution_count": 30,
   "metadata": {},
   "outputs": [
    {
     "data": {
      "text/plain": [
       "{'file_path': '/Users/luchaojin/Library/CloudStorage/OneDrive-Personal/RAG Product/voice-rag/data/CA-1039.pdf',\n",
       " 'file_name': 'CA-1039.pdf',\n",
       " 'file_type': 'application/pdf',\n",
       " 'file_size': 986437,\n",
       " 'creation_date': '2024-09-25',\n",
       " 'last_modified_date': '2024-09-25',\n",
       " 'page_number': 6}"
      ]
     },
     "execution_count": 30,
     "metadata": {},
     "output_type": "execute_result"
    }
   ],
   "source": [
    "documents_update[5].metadata"
   ]
  },
  {
   "cell_type": "code",
   "execution_count": 16,
   "metadata": {},
   "outputs": [],
   "source": [
    "from copy import deepcopy\n",
    "from llama_index.core.schema import TextNode\n",
    "from llama_index.core import VectorStoreIndex\n",
    "\n",
    "\n",
    "def get_page_nodes(docs, separator=\"\\n---\\n\"):\n",
    "    \"\"\"Split each document into page node, by separator.\"\"\"\n",
    "    nodes = []\n",
    "    for doc in docs:\n",
    "        doc_chunks = doc.text.split(separator)\n",
    "        for doc_chunk in doc_chunks:\n",
    "            node = TextNode(\n",
    "                text=doc_chunk,\n",
    "                metadata=deepcopy(doc.metadata),\n",
    "            )\n",
    "            nodes.append(node)\n",
    "\n",
    "    return nodes"
   ]
  },
  {
   "cell_type": "code",
   "execution_count": 31,
   "metadata": {},
   "outputs": [],
   "source": [
    "page_nodes = get_page_nodes(documents_update)"
   ]
  },
  {
   "cell_type": "code",
   "execution_count": 79,
   "metadata": {},
   "outputs": [
    {
     "data": {
      "text/plain": [
       "{'file_path': '/Users/luchaojin/Library/CloudStorage/OneDrive-Personal/RAG Product/voice-rag/data/CA-1039.pdf',\n",
       " 'file_name': 'CA-1039.pdf',\n",
       " 'file_type': 'application/pdf',\n",
       " 'file_size': 986437,\n",
       " 'creation_date': '2024-09-25',\n",
       " 'last_modified_date': '2024-09-25',\n",
       " 'page_number': 7}"
      ]
     },
     "execution_count": 79,
     "metadata": {},
     "output_type": "execute_result"
    }
   ],
   "source": [
    "page_nodes[6].metadata"
   ]
  },
  {
   "cell_type": "code",
   "execution_count": 91,
   "metadata": {},
   "outputs": [
    {
     "name": "stdout",
     "output_type": "stream",
     "text": [
      "# FASTENER IDENTIFICATION\n",
      "\n",
      "# HEAD MARKINGS\n",
      "\n",
      "|STANDARD MAXIBOLT|OVERSIZE MAXIBOLT|MAXIBOLT PLUS|\n",
      "|---|---|---|\n",
      "|Sleeve Material Code|Sleeve Material Code| |\n",
      "|Manufacturer’s Identification|Manufacturer’s Identification| |\n",
      "| |Designates “Oversize”| |\n",
      "|Grip Identification|Grip Identification| |\n",
      "\n",
      "1. Single digit marking is permissible for grip dash numbers less than 10\n",
      "2. Sleeve Material\n",
      "\n",
      "# MAXIBOLT — STANDARD AND OVERSIZE\n",
      "\n",
      "|Material Code|Sleeve Material|\n",
      "|---|---|\n",
      "|C|Stainless Steel A-286 CRES, AMS 5737|\n",
      "|MV or 7774|CP Titanium per ASTM - B348, Gr. 1|\n",
      "|none|4037 Alloy Steel ASTM-A-331|\n",
      "\n",
      "# MAXIBOLT PLUS\n",
      "\n",
      "|Product Number|Material|Head Style|\n",
      "|---|---|---|\n",
      "|CR7680S|Stainless Steel|100° Flush Head (AN509)|\n",
      "|CR7683S|Stainless Steel|Protruding Head|\n",
      "|CR7684S|Stainless Steel|130° Flush Head|\n",
      "|CR7686S|Stainless Steel|100° Flush Head (MS20426)|\n",
      "|CR7784S|Titanium|130° Flush Head|\n"
     ]
    }
   ],
   "source": [
    "print(page_nodes[6].get_content())"
   ]
  },
  {
   "cell_type": "code",
   "execution_count": 22,
   "metadata": {},
   "outputs": [],
   "source": [
    "from llama_index.core.node_parser import MarkdownElementNodeParser\n",
    "\n",
    "node_parser = MarkdownElementNodeParser(\n",
    "    llm=OpenAI(model=\"gpt-3.5-turbo-0125\"), num_workers=4\n",
    ")"
   ]
  },
  {
   "cell_type": "code",
   "execution_count": 33,
   "metadata": {},
   "outputs": [
    {
     "name": "stderr",
     "output_type": "stream",
     "text": [
      "0it [00:00, ?it/s]\n",
      "0it [00:00, ?it/s]\n",
      "0it [00:00, ?it/s]\n",
      "0it [00:00, ?it/s]\n",
      "0it [00:00, ?it/s]\n",
      "2it [00:00, 39945.75it/s]\n",
      "2024-09-25 22:46:51,452 - INFO - HTTP Request: POST https://api.openai.com/v1/chat/completions \"HTTP/1.1 200 OK\"\n",
      "2024-09-25 22:46:51,661 - INFO - HTTP Request: POST https://api.openai.com/v1/chat/completions \"HTTP/1.1 200 OK\"\n",
      "3it [00:00, 35746.91it/s]\n",
      "2024-09-25 22:46:52,906 - INFO - HTTP Request: POST https://api.openai.com/v1/chat/completions \"HTTP/1.1 200 OK\"\n",
      "2024-09-25 22:46:52,964 - INFO - HTTP Request: POST https://api.openai.com/v1/chat/completions \"HTTP/1.1 200 OK\"\n",
      "2024-09-25 22:46:53,495 - INFO - HTTP Request: POST https://api.openai.com/v1/chat/completions \"HTTP/1.1 200 OK\"\n",
      "1it [00:00, 10330.80it/s]\n",
      "2024-09-25 22:46:54,927 - INFO - HTTP Request: POST https://api.openai.com/v1/chat/completions \"HTTP/1.1 200 OK\"\n",
      "3it [00:00, 36157.79it/s]\n",
      "2024-09-25 22:46:56,227 - INFO - HTTP Request: POST https://api.openai.com/v1/chat/completions \"HTTP/1.1 200 OK\"\n",
      "2024-09-25 22:46:56,361 - INFO - HTTP Request: POST https://api.openai.com/v1/chat/completions \"HTTP/1.1 200 OK\"\n",
      "2024-09-25 22:46:56,424 - INFO - HTTP Request: POST https://api.openai.com/v1/chat/completions \"HTTP/1.1 200 OK\"\n",
      "2it [00:00, 15279.80it/s]\n",
      "2024-09-25 22:46:57,793 - INFO - HTTP Request: POST https://api.openai.com/v1/chat/completions \"HTTP/1.1 200 OK\"\n",
      "2024-09-25 22:46:57,898 - INFO - HTTP Request: POST https://api.openai.com/v1/chat/completions \"HTTP/1.1 200 OK\"\n",
      "2024-09-25 22:46:58,744 - INFO - HTTP Request: POST https://api.openai.com/v1/chat/completions \"HTTP/1.1 200 OK\"\n",
      "1it [00:00, 12228.29it/s]\n",
      "2024-09-25 22:47:00,560 - INFO - HTTP Request: POST https://api.openai.com/v1/chat/completions \"HTTP/1.1 200 OK\"\n",
      "0it [00:00, ?it/s]\n",
      "2it [00:00, 33420.75it/s]\n",
      "2024-09-25 22:47:01,833 - INFO - HTTP Request: POST https://api.openai.com/v1/chat/completions \"HTTP/1.1 200 OK\"\n",
      "2024-09-25 22:47:01,930 - INFO - HTTP Request: POST https://api.openai.com/v1/chat/completions \"HTTP/1.1 200 OK\"\n",
      "0it [00:00, ?it/s]\n",
      "3it [00:00, 52648.17it/s]\n",
      "2024-09-25 22:47:03,121 - INFO - HTTP Request: POST https://api.openai.com/v1/chat/completions \"HTTP/1.1 200 OK\"\n",
      "2024-09-25 22:47:03,283 - INFO - HTTP Request: POST https://api.openai.com/v1/chat/completions \"HTTP/1.1 200 OK\"\n",
      "2024-09-25 22:47:03,324 - INFO - HTTP Request: POST https://api.openai.com/v1/chat/completions \"HTTP/1.1 200 OK\"\n",
      "0it [00:00, ?it/s]\n",
      "0it [00:00, ?it/s]\n",
      "3it [00:00, 59074.70it/s]\n",
      "2024-09-25 22:47:04,756 - INFO - HTTP Request: POST https://api.openai.com/v1/chat/completions \"HTTP/1.1 200 OK\"\n",
      "2024-09-25 22:47:04,760 - INFO - HTTP Request: POST https://api.openai.com/v1/chat/completions \"HTTP/1.1 200 OK\"\n",
      "2024-09-25 22:47:05,409 - INFO - HTTP Request: POST https://api.openai.com/v1/chat/completions \"HTTP/1.1 200 OK\"\n",
      "0it [00:00, ?it/s]\n",
      "1it [00:00, 21290.88it/s]\n",
      "2024-09-25 22:47:06,865 - INFO - HTTP Request: POST https://api.openai.com/v1/chat/completions \"HTTP/1.1 200 OK\"\n",
      "0it [00:00, ?it/s]\n",
      "0it [00:00, ?it/s]\n",
      "0it [00:00, ?it/s]\n",
      "3it [00:00, 39444.87it/s]\n",
      "2024-09-25 22:47:08,075 - INFO - HTTP Request: POST https://api.openai.com/v1/chat/completions \"HTTP/1.1 200 OK\"\n",
      "2024-09-25 22:47:08,653 - INFO - HTTP Request: POST https://api.openai.com/v1/chat/completions \"HTTP/1.1 200 OK\"\n",
      "2024-09-25 22:47:09,117 - INFO - HTTP Request: POST https://api.openai.com/v1/chat/completions \"HTTP/1.1 200 OK\"\n",
      "0it [00:00, ?it/s]\n",
      "1it [00:00, 13357.66it/s]\n",
      "2024-09-25 22:47:11,465 - INFO - HTTP Request: POST https://api.openai.com/v1/chat/completions \"HTTP/1.1 200 OK\"\n",
      "1it [00:00, 11335.96it/s]\n",
      "2024-09-25 22:47:12,926 - INFO - HTTP Request: POST https://api.openai.com/v1/chat/completions \"HTTP/1.1 200 OK\"\n",
      "0it [00:00, ?it/s]\n"
     ]
    }
   ],
   "source": [
    "nodes = node_parser.get_nodes_from_documents(documents_update)"
   ]
  },
  {
   "cell_type": "code",
   "execution_count": 67,
   "metadata": {},
   "outputs": [
    {
     "data": {
      "text/plain": [
       "\"{'Product Number': {0: 'CR7680S', 1: 'CR7683S', 2: 'CR7684S', 3: 'CR7686S', 4: 'CR7784S'}, 'Material': {0: 'Stainless Steel', 1: 'Stainless Steel', 2: 'Stainless Steel', 3: 'Stainless Steel', 4: 'Titanium'}, 'Head Style': {0: '100° Flush Head (AN509)', 1: 'Protruding Head', 2: '130° Flush Head', 3: '100° Flush Head (MS20426)', 4: '130° Flush Head'}}\""
      ]
     },
     "execution_count": 67,
     "metadata": {},
     "output_type": "execute_result"
    }
   ],
   "source": [
    "nodes[20].metadata['table_df']"
   ]
  },
  {
   "cell_type": "code",
   "execution_count": 35,
   "metadata": {},
   "outputs": [],
   "source": [
    "base_nodes, objects = node_parser.get_nodes_and_objects(nodes)"
   ]
  },
  {
   "cell_type": "code",
   "execution_count": 87,
   "metadata": {},
   "outputs": [
    {
     "data": {
      "text/plain": [
       "'MAXIBOLT PLUS'"
      ]
     },
     "execution_count": 87,
     "metadata": {},
     "output_type": "execute_result"
    }
   ],
   "source": [
    "base_nodes[10].get_content()"
   ]
  },
  {
   "cell_type": "code",
   "execution_count": 90,
   "metadata": {},
   "outputs": [
    {
     "data": {
      "text/plain": [
       "{'file_path': '/Users/luchaojin/Library/CloudStorage/OneDrive-Personal/RAG Product/voice-rag/data/CA-1039.pdf',\n",
       " 'file_name': 'CA-1039.pdf',\n",
       " 'file_type': 'application/pdf',\n",
       " 'file_size': 986437,\n",
       " 'creation_date': '2024-09-25',\n",
       " 'last_modified_date': '2024-09-25',\n",
       " 'page_number': 7,\n",
       " 'col_schema': 'Column: Product Number\\nType: string\\nSummary: None\\n\\nColumn: Material\\nType: string\\nSummary: None\\n\\nColumn: Head Style\\nType: string\\nSummary: None'}"
      ]
     },
     "execution_count": 90,
     "metadata": {},
     "output_type": "execute_result"
    }
   ],
   "source": [
    "objects[4].metadata"
   ]
  },
  {
   "cell_type": "code",
   "execution_count": 39,
   "metadata": {},
   "outputs": [],
   "source": [
    "import chromadb\n",
    "from llama_index.core import VectorStoreIndex\n",
    "from llama_index.vector_stores.chroma import ChromaVectorStore\n",
    "from llama_index.core import StorageContext"
   ]
  },
  {
   "cell_type": "code",
   "execution_count": 42,
   "metadata": {},
   "outputs": [
    {
     "name": "stderr",
     "output_type": "stream",
     "text": [
      "2024-09-25 22:52:09,249 - INFO - Anonymized telemetry enabled. See                     https://docs.trychroma.com/telemetry for more information.\n"
     ]
    }
   ],
   "source": [
    "# initialize client, setting path to save data\n",
    "db = chromadb.PersistentClient(path=\"../swi_test\")\n",
    "\n",
    "# create collection\n",
    "chroma_collection = db.get_or_create_collection(\"rag_swi_CA1039\")\n",
    "\n",
    "# assign chroma as the vector_store to the context\n",
    "vector_store = ChromaVectorStore(chroma_collection=chroma_collection)\n",
    "storage_context = StorageContext.from_defaults(vector_store=vector_store)"
   ]
  },
  {
   "cell_type": "code",
   "execution_count": 43,
   "metadata": {},
   "outputs": [
    {
     "name": "stderr",
     "output_type": "stream",
     "text": [
      "2024-09-25 22:52:14,524 - INFO - HTTP Request: POST https://api.openai.com/v1/embeddings \"HTTP/1.1 200 OK\"\n",
      "2024-09-25 22:52:15,398 - INFO - HTTP Request: POST https://api.openai.com/v1/embeddings \"HTTP/1.1 200 OK\"\n"
     ]
    }
   ],
   "source": [
    "# create index\n",
    "index = VectorStoreIndex(nodes=base_nodes + objects + page_nodes,\n",
    "                          storage_context=storage_context)"
   ]
  },
  {
   "cell_type": "code",
   "execution_count": 71,
   "metadata": {},
   "outputs": [
    {
     "name": "stderr",
     "output_type": "stream",
     "text": [
      "/Users/luchaojin/anaconda3/envs/rag/lib/python3.10/site-packages/tqdm/auto.py:21: TqdmWarning: IProgress not found. Please update jupyter and ipywidgets. See https://ipywidgets.readthedocs.io/en/stable/user_install.html\n",
      "  from .autonotebook import tqdm as notebook_tqdm\n",
      "2024-09-25 23:06:45,400 - INFO - PyTorch version 2.2.2 available.\n"
     ]
    }
   ],
   "source": [
    "from llama_index.postprocessor.flag_embedding_reranker import FlagEmbeddingReranker\n",
    "\n",
    "reranker = FlagEmbeddingReranker(\n",
    "    top_n=5,\n",
    "    model=\"BAAI/bge-reranker-large\",\n",
    ")"
   ]
  },
  {
   "cell_type": "code",
   "execution_count": 103,
   "metadata": {},
   "outputs": [],
   "source": [
    "# create a query engine and query\n",
    "query_engine = index.as_query_engine(\n",
    "    similarity_top_k=5, verbose=True\n",
    ")"
   ]
  },
  {
   "cell_type": "code",
   "execution_count": 104,
   "metadata": {},
   "outputs": [
    {
     "name": "stderr",
     "output_type": "stream",
     "text": [
      "2024-09-26 07:54:09,190 - INFO - HTTP Request: POST https://api.openai.com/v1/embeddings \"HTTP/1.1 200 OK\"\n",
      "2024-09-26 07:54:10,577 - INFO - HTTP Request: POST https://api.openai.com/v1/chat/completions \"HTTP/1.1 200 OK\"\n"
     ]
    },
    {
     "name": "stdout",
     "output_type": "stream",
     "text": [
      "The context does not provide specific information about the head style of CR7680S.\n"
     ]
    }
   ],
   "source": [
    "response = query_engine.query(\"head style of CR7680S\")\n",
    "print(response)"
   ]
  },
  {
   "cell_type": "code",
   "execution_count": 122,
   "metadata": {},
   "outputs": [
    {
     "data": {
      "text/plain": [
       "'The \"MS21140U05*\" is a part number. The \"U\" in the part number indicates a special nose. The \"05\" is likely related to the grip length dash number. However, the exact details of \"05\" are not provided in the context. The \"*\" could potentially represent a suffix. For instance, a \"P\" suffix to MS21140 indicates a cadmium plate, and a \"D\" suffix indicates an aluminum IVD coating.'"
      ]
     },
     "execution_count": 122,
     "metadata": {},
     "output_type": "execute_result"
    }
   ],
   "source": [
    "response.response"
   ]
  },
  {
   "cell_type": "code",
   "execution_count": 125,
   "metadata": {},
   "outputs": [
    {
     "data": {
      "text/plain": [
       "[NodeWithScore(node=TextNode(id_='df9fd999-2761-4654-94ec-e1a9676c8869', embedding=None, metadata={'file_path': '/Users/luchaojin/Library/CloudStorage/OneDrive-Personal/RAG Product/voice-rag/data/CA-1039.pdf', 'file_name': 'CA-1039.pdf', 'file_type': 'application/pdf', 'file_size': 986437, 'creation_date': '2024-09-25', 'last_modified_date': '2024-09-25', 'page_number': 6}, excluded_embed_metadata_keys=['file_name', 'file_type', 'file_size', 'creation_date', 'last_modified_date', 'last_accessed_date'], excluded_llm_metadata_keys=['file_name', 'file_type', 'file_size', 'creation_date', 'last_modified_date', 'last_accessed_date'], relationships={<NodeRelationship.SOURCE: '1'>: RelatedNodeInfo(node_id='1c863ccb-c28a-4ce7-8c87-59f6bf89fb3b', node_type=<ObjectType.DOCUMENT: '4'>, metadata={'file_path': '/Users/luchaojin/Library/CloudStorage/OneDrive-Personal/RAG Product/voice-rag/data/CA-1039.pdf', 'file_name': 'CA-1039.pdf', 'file_type': 'application/pdf', 'file_size': 986437, 'creation_date': '2024-09-25', 'last_modified_date': '2024-09-25', 'page_number': 6}, hash='0e5e8e9fe5a0cf3160edd2b2bfef6c4233ea96ca83d4336e63ea01e917da409b'), <NodeRelationship.PREVIOUS: '2'>: RelatedNodeInfo(node_id='569bb267-64a7-47e3-979c-146b985c6fe4', node_type=<ObjectType.TEXT: '1'>, metadata={'file_path': '/Users/luchaojin/Library/CloudStorage/OneDrive-Personal/RAG Product/voice-rag/data/CA-1039.pdf', 'file_name': 'CA-1039.pdf', 'file_type': 'application/pdf', 'file_size': 986437, 'creation_date': '2024-09-25', 'last_modified_date': '2024-09-25', 'page_number': 6, 'table_df': \"{'Finish Code': {0: '“U”', 1: '“—”'}, 'Grip Length in 1/16 inch increments': {0: 'Single action all diameters, uses “U” type nose piece.', 1: 'Double action 5/32” and 3/16” only,'}, 'Diameter in 1/32 inch increments': {0: '“S”', 1: 'Single action 1/4” and 5/16”'}, 'Installation Method': {0: 'Single action Shift Cap Washer', 1: 'Single action with Shift Cap Washer'}}\", 'table_summary': 'Table detailing different finish codes, grip lengths, diameters, and installation methods for fasteners.,\\nwith the following table title:\\nFastener Installation Specifications,\\nwith the following columns:\\n- Finish Code: Codes indicating the finish type of the fastener\\n- Grip Length in 1/16 inch increments: Length of the grip in 1/16 inch increments\\n- Diameter in 1/32 inch increments: Diameter of the fastener in 1/32 inch increments\\n- Installation Method: Methods used for installing the fastener\\n'}, hash='8f8a6a6edb0ec37158a0e6f24e0b3ca40487103060cf2bd07ecc27d04fda04ff'), <NodeRelationship.NEXT: '3'>: RelatedNodeInfo(node_id='53e475c1-d9fa-4469-871a-85131432d5be', node_type=<ObjectType.INDEX: '3'>, metadata={'col_schema': 'Column: Finish Code/Installation Type\\nType: text\\nSummary: Codes and types of tooling finishes and installation methods.\\n\\nColumn: Grip Length in 1/16 inch increments\\nType: text\\nSummary: Grip lengths specified in 1/16 inch increments.\\n\\nColumn: Diameter in 1/32 inch increments\\nType: text\\nSummary: Diameters specified in 1/32 inch increments.\\n\\nColumn: Installation Method\\nType: text\\nSummary: Different methods of tool installation.', 'file_path': '/Users/luchaojin/Library/CloudStorage/OneDrive-Personal/RAG Product/voice-rag/data/CA-1039.pdf', 'file_name': 'CA-1039.pdf', 'file_type': 'application/pdf', 'file_size': 986437, 'creation_date': '2024-09-25', 'last_modified_date': '2024-09-25', 'page_number': 6}, hash='ffdf20c85f9e065cf6458f7170a0d7017fb6c804e9fed91be701aaad55ead876')}, text='Basic Part Number (materials and head style)\\n\\nNote: Refer to Cherry MAXIBOLT catalogue for complete list of finish alternates and codes. See page 6 for cross reference of Cherry MAXIBOLT and MS part numbers.\\n\\n MILITARY PART NUMBER IDENTIFICATION\\n\\nMS90353 S 06 04 ( )', mimetype='text/plain', start_char_idx=1, end_char_idx=267, text_template='{metadata_str}\\n\\n{content}', metadata_template='{key}: {value}', metadata_seperator='\\n'), score=0.6707875891122028),\n",
       " NodeWithScore(node=TextNode(id_='f1285d53-2aca-4c32-bd56-be8e4994b03b', embedding=None, metadata={'file_path': '/Users/luchaojin/Library/CloudStorage/OneDrive-Personal/RAG Product/voice-rag/data/CA-1039.pdf', 'file_name': 'CA-1039.pdf', 'file_type': 'application/pdf', 'file_size': 986437, 'creation_date': '2024-09-25', 'last_modified_date': '2024-09-25', 'page_number': 20}, excluded_embed_metadata_keys=['file_name', 'file_type', 'file_size', 'creation_date', 'last_modified_date', 'last_accessed_date'], excluded_llm_metadata_keys=['file_name', 'file_type', 'file_size', 'creation_date', 'last_modified_date', 'last_accessed_date'], relationships={<NodeRelationship.SOURCE: '1'>: RelatedNodeInfo(node_id='53c847c6-9ea2-47a5-988f-f26c44fe1ccb', node_type=<ObjectType.DOCUMENT: '4'>, metadata={'file_path': '/Users/luchaojin/Library/CloudStorage/OneDrive-Personal/RAG Product/voice-rag/data/CA-1039.pdf', 'file_name': 'CA-1039.pdf', 'file_type': 'application/pdf', 'file_size': 986437, 'creation_date': '2024-09-25', 'last_modified_date': '2024-09-25', 'page_number': 20}, hash='f0c368a0eeff94e29cacce573ba60f613196ef781e2756052f61255e59e07535'), <NodeRelationship.PREVIOUS: '2'>: RelatedNodeInfo(node_id='edf94610-83c6-43d8-b371-31675e8e8619', node_type=<ObjectType.TEXT: '1'>, metadata={'file_path': '/Users/luchaojin/Library/CloudStorage/OneDrive-Personal/RAG Product/voice-rag/data/CA-1039.pdf', 'file_name': 'CA-1039.pdf', 'file_type': 'application/pdf', 'file_size': 986437, 'creation_date': '2024-09-25', 'last_modified_date': '2024-09-25', 'page_number': 20, 'table_df': '|Fastener Diameter|LOW COLLAR|LOW COLLAR|HIGH COLLAR|HIGH COLLAR| | |\\n|---|---|---|---|---|\\n| |B Max|C Max|Diameter|C Max|\\n|5/32 (05)|0.017|0.017|1/8 (04)|0.015|\\n|3/16 (06)|0.022|0.022|5/32 (05)|0.017|\\n|1/4 (08)|0.029|0.029|3/32 (06)|0.022|\\n|5/16 (10)|0.037|0.037|1/4 (08)|0.029|\\n| | | |5/16 (10)|0.037|', 'table_summary': 'This table provides information on fastener diameters and corresponding collar sizes.,\\nwith the following table title:\\nFastener Diameter and Collar Size,\\nwith the following columns:\\n- Fastener Diameter: None\\n- LOW COLLAR: None\\n- LOW COLLAR: None\\n- HIGH COLLAR: None\\n- HIGH COLLAR: None\\n'}, hash='759de467d177ec4a3f0bed4662c0da6091d0ff5384403e6c428992983e3077a0')}, text='(1) Per NASM81177\\n\\n(2) Per NASM8975 and Cherry Aerospace PS-CMB-7000', mimetype='text/plain', start_char_idx=347, end_char_idx=415, text_template='{metadata_str}\\n\\n{content}', metadata_template='{key}: {value}', metadata_seperator='\\n'), score=0.6587033362348436),\n",
       " NodeWithScore(node=TextNode(id_='eb3d704b-bbb5-40d2-880b-9b7626be8a7a', embedding=None, metadata={'file_path': '/Users/luchaojin/Library/CloudStorage/OneDrive-Personal/RAG Product/voice-rag/data/CA-1039.pdf', 'file_name': 'CA-1039.pdf', 'file_type': 'application/pdf', 'file_size': 986437, 'creation_date': '2024-09-25', 'last_modified_date': '2024-09-25', 'page_number': 7}, excluded_embed_metadata_keys=['file_name', 'file_type', 'file_size', 'creation_date', 'last_modified_date', 'last_accessed_date'], excluded_llm_metadata_keys=['file_name', 'file_type', 'file_size', 'creation_date', 'last_modified_date', 'last_accessed_date'], relationships={<NodeRelationship.SOURCE: '1'>: RelatedNodeInfo(node_id='6764f192-4014-4a95-9af9-6e2e4b328a8f', node_type=<ObjectType.DOCUMENT: '4'>, metadata={'file_path': '/Users/luchaojin/Library/CloudStorage/OneDrive-Personal/RAG Product/voice-rag/data/CA-1039.pdf', 'file_name': 'CA-1039.pdf', 'file_type': 'application/pdf', 'file_size': 986437, 'creation_date': '2024-09-25', 'last_modified_date': '2024-09-25', 'page_number': 7}, hash='9844475a6a522d969bd9dc195fcffec53cdc7aa085d4ab7e77377fa6e31289fe'), <NodeRelationship.PREVIOUS: '2'>: RelatedNodeInfo(node_id='7d5f56c4-6460-4dfa-a8cc-33cad785c420', node_type=<ObjectType.TEXT: '1'>, metadata={'file_path': '/Users/luchaojin/Library/CloudStorage/OneDrive-Personal/RAG Product/voice-rag/data/CA-1039.pdf', 'file_name': 'CA-1039.pdf', 'file_type': 'application/pdf', 'file_size': 986437, 'creation_date': '2024-09-25', 'last_modified_date': '2024-09-25', 'page_number': 7, 'table_df': \"{'Material Code': {0: 'C', 1: 'MV or 7774', 2: 'none'}, 'Sleeve Material': {0: 'Stainless Steel A-286 CRES, AMS 5737', 1: 'CP Titanium per ASTM - B348, Gr. 1', 2: '4037 Alloy Steel ASTM-A-331'}}\", 'table_summary': 'Table showing Material Codes and corresponding Sleeve Materials,\\nwith the following table title:\\nMaterial Codes and Sleeve Materials,\\nwith the following columns:\\n- Material Code: None\\n- Sleeve Material: None\\n'}, hash='442c592df935b8450a7404598da9927565e193476948ca886bc3814dc2351982'), <NodeRelationship.NEXT: '3'>: RelatedNodeInfo(node_id='428f2c57-e0e6-4c89-b0d9-aa60b7affc51', node_type=<ObjectType.INDEX: '3'>, metadata={'col_schema': 'Column: Product Number\\nType: string\\nSummary: None\\n\\nColumn: Material\\nType: string\\nSummary: None\\n\\nColumn: Head Style\\nType: string\\nSummary: None', 'file_path': '/Users/luchaojin/Library/CloudStorage/OneDrive-Personal/RAG Product/voice-rag/data/CA-1039.pdf', 'file_name': 'CA-1039.pdf', 'file_type': 'application/pdf', 'file_size': 986437, 'creation_date': '2024-09-25', 'last_modified_date': '2024-09-25', 'page_number': 7}, hash='3eaee1d35d8ef9c341abc77c0862b88a0e716f8379f64105f43f543d4b9e65bb')}, text='MAXIBOLT PLUS', mimetype='text/plain', start_char_idx=81, end_char_idx=94, text_template='{metadata_str}\\n\\n{content}', metadata_template='{key}: {value}', metadata_seperator='\\n'), score=0.6563119340101046),\n",
       " NodeWithScore(node=TextNode(id_='a3795d2b-7598-47f9-acef-74b5b3ef5eb1', embedding=None, metadata={'file_path': '/Users/luchaojin/Library/CloudStorage/OneDrive-Personal/RAG Product/voice-rag/data/CA-1039.pdf', 'file_name': 'CA-1039.pdf', 'file_type': 'application/pdf', 'file_size': 986437, 'creation_date': '2024-09-25', 'last_modified_date': '2024-09-25', 'page_number': 8}, excluded_embed_metadata_keys=['file_name', 'file_type', 'file_size', 'creation_date', 'last_modified_date', 'last_accessed_date'], excluded_llm_metadata_keys=['file_name', 'file_type', 'file_size', 'creation_date', 'last_modified_date', 'last_accessed_date'], relationships={<NodeRelationship.SOURCE: '1'>: RelatedNodeInfo(node_id='93025542-d70c-4b2c-ae39-aadb032191be', node_type=<ObjectType.DOCUMENT: '4'>, metadata={'file_path': '/Users/luchaojin/Library/CloudStorage/OneDrive-Personal/RAG Product/voice-rag/data/CA-1039.pdf', 'file_name': 'CA-1039.pdf', 'file_type': 'application/pdf', 'file_size': 986437, 'creation_date': '2024-09-25', 'last_modified_date': '2024-09-25', 'page_number': 8}, hash='6ca855d18c3b2dbd64ca17665d5d3b86a219ee4e71c59482a0da7e4c367591ac'), <NodeRelationship.PREVIOUS: '2'>: RelatedNodeInfo(node_id='fc644fb5-2e97-409c-b48b-da8a6c3a067d', node_type=<ObjectType.TEXT: '1'>, metadata={'file_path': '/Users/luchaojin/Library/CloudStorage/OneDrive-Personal/RAG Product/voice-rag/data/CA-1039.pdf', 'file_name': 'CA-1039.pdf', 'file_type': 'application/pdf', 'file_size': 986437, 'creation_date': '2024-09-25', 'last_modified_date': '2024-09-25', 'page_number': 8, 'table_df': '|Fastener|Diameter|Diameter|Diameter|Diameter|Riveter**|Nose Piece Type***| | | |\\n|---|---|---|---|---|---|---|\\n| |MS Part No.|Cherry Part No.|MS Part No.|Cherry Part No.| | |\\n|05|MS21140-05*|CR7620-05-*|MS90353-05*|CR7310-05-*|DA|N/A|\\n| |MS21140S05*|CR7620S-05-*|MS90353S05*|CR7310S-05-*|S|B or U|\\n| |MS21140U05*|CR7620U-05-*|MS90353U05*|CR7310U-05-*|S|U|\\n|5/32\" (0.164)|MS21141-05*|CR7621-05-*|MS90354-05*|CR7311-05-*|DA|N/A|\\n| |MS21141S05*|CR7621S-05-*|MS90354S05*|CR7311S-05-*|S|B or U|\\n| |MS21141U05*|CR7621U-05-*|MS90354U05*|CR7311U-05-*|S|U|\\n|Oversize 05|None|CR7650S-05-*|None|CR7340S-05-*|S|B or U|\\n|5/32” (0.179)|None|CR7651S-05-*|None|CR7341S-05-*|S|B or U|\\n|06|MS21140-06*|CR7620-06-*|MS90353-06*|CR7310-06-*|DA|N/A|\\n| |MS21140S06*|CR7620S-06-*|MS90353S06*|CR7310S-06-*|S|B or U|\\n| |MS21140U06*|CR7620U-06-*|MS90353U06*|CR7310U-06-*|S|U|\\n|3/16\" (0.199)|MS21141-06*|CR7621-06-*|MS90354-06*|CR7311-06-*|DA|N/A|\\n| |MS21141S06*|CR7621S-06-*|MS90354S06*|CR7311S-06-*|S|B or U|\\n| |MS21141U06*|CR7621U-06-*|MS90354U06*|CR7311U-06-*|S|U|\\n|Oversize 06|None|CR7650S-06-*|None|CR7340S-06-*|S|B or U|\\n|3/16\" (.215)|None|CR7651S-06-*|None|CR7341S-06-*|S|B or U|\\n|08|MS21140-08*|CR7620-08-*|MS90353-08*|CR7310-08-*|S|B or U|\\n| |MS21140U08*|CR7620U-08-*|MS90353U08*|CR7310U-08-*|S|U|\\n|1/4\" (0.260)|MS21141-08*|CR7621-08-*|MS90354-08*|CR7311-08-*|S|B or U|\\n| |MS21141U08*|CR7621U-08-*|MS90354U08*|CR7311U-08-*|S|U|\\n|Oversize 08|None|CR7650S-08-*|None|CR7340S-08-*|S|B or U|\\n|1/4\" (0.260)|None|CR7651S-08-*|None|CR7341S-08-*|S|B or U|\\n|10|MS21140-10*|CR7620-10-*|MS90353-10*|CR7620-10-*|S|B or U|\\n| |MS21140U10*|CR7620U-10-*|MS90353-10*|CR7620U-10-*|S|U|\\n|5/16\" (0.312)|MS21141-10*|CR7621-10-*|MS90354-10*|CR7621-10-*|S|B or U|\\n| |MS21141U10*|CR7621U-10-*|MS90354U10*|CR7621U-10-*|S|U|\\n|Oversize 10|None|CR7650S-10-*|None|CR7340S-10-*|S|B or U|\\n|5/16\" (0.328)|None|CR7651S-10-*|None|CR7341S-10-*|S|B or U|', 'table_summary': 'Fastener and Riveter Information,\\nwith the following columns:\\n- Fastener: None\\n- Diameter: None\\n- Diameter: None\\n- Diameter: None\\n- Diameter: None\\n- Riveter**: None\\n- Nose Piece Type***: None\\n'}, hash='c83ab5255a30118eeb4ef2305d41bfd560cb7a9f40f745f88c5520794d82c8d2')}, text='* Grip Length dash number — see page XXXX\\n\\n** Installation Riveter Codes: DA=Double Action, S=Single Action,\\n\\n***B - Blunt type; U - Special Nose\\n\\nP- Suffix to MS21140 and MS21141 indicates cadmium plate\\n\\nD- Suffix to MS90353 and MS90354 indicates aluminum IVD coating\\n\\nP- Suffix to Cherry Part No.for A286 CRES parts indicate cadmium plate\\n\\nD- Suffix to Cherry indicates aluminum IVD coating;\\n\\nNote: There is no cross-reference between the Cherry Titanium MAXIBOLT and any MS no.\\n\\nRefer to Page 22 for Installation Tool Selection Chart', mimetype='text/plain', start_char_idx=1969, end_char_idx=2505, text_template='{metadata_str}\\n\\n{content}', metadata_template='{key}: {value}', metadata_seperator='\\n'), score=0.6538949146449355),\n",
       " NodeWithScore(node=TextNode(id_='7ccacb0a-5c54-4b1e-8aa2-87325f8a1c06', embedding=None, metadata={'file_path': '/Users/luchaojin/Library/CloudStorage/OneDrive-Personal/RAG Product/voice-rag/data/CA-1039.pdf', 'file_name': 'CA-1039.pdf', 'file_type': 'application/pdf', 'file_size': 986437, 'creation_date': '2024-09-25', 'last_modified_date': '2024-09-25', 'page_number': 18}, excluded_embed_metadata_keys=['file_name', 'file_type', 'file_size', 'creation_date', 'last_modified_date', 'last_accessed_date'], excluded_llm_metadata_keys=['file_name', 'file_type', 'file_size', 'creation_date', 'last_modified_date', 'last_accessed_date'], relationships={<NodeRelationship.SOURCE: '1'>: RelatedNodeInfo(node_id='77558e38-f244-454d-a94d-8310ead49bac', node_type=<ObjectType.DOCUMENT: '4'>, metadata={'file_path': '/Users/luchaojin/Library/CloudStorage/OneDrive-Personal/RAG Product/voice-rag/data/CA-1039.pdf', 'file_name': 'CA-1039.pdf', 'file_type': 'application/pdf', 'file_size': 986437, 'creation_date': '2024-09-25', 'last_modified_date': '2024-09-25', 'page_number': 18}, hash='cb44e5959f2a27d3aab8463f15f949331d84e7ab682e8b36d29f6f032e6b5db1'), <NodeRelationship.PREVIOUS: '2'>: RelatedNodeInfo(node_id='46b9bcb4-9c57-4ff7-bac2-74e268b267a9', node_type=<ObjectType.TEXT: '1'>, metadata={'file_path': '/Users/luchaojin/Library/CloudStorage/OneDrive-Personal/RAG Product/voice-rag/data/CA-1039.pdf', 'file_name': 'CA-1039.pdf', 'file_type': 'application/pdf', 'file_size': 986437, 'creation_date': '2024-09-25', 'last_modified_date': '2024-09-25', 'page_number': 18, 'table_df': \"{'Fastener Diameter': {0: '1/8 (04)', 1: '5/32 (05)', 2: '3/16 (06)', 3: '1/4 (08)', 4: '5/16 (10)'}, 'A Max Acceptable Stem Protrusion Limits': {0: 0.01, 1: 0.01, 2: 0.01, 3: 0.015, 4: 0.02}, 'C Max Acceptable Stem Recession Limits': {0: 0.01, 1: 0.01, 2: 0.01, 3: 0.015, 4: 0.02}, 'Blind Head Minimum Diameter': {0: 0.154, 1: 0.195, 2: 0.238, 3: 0.315, 4: 0.373}}\", 'table_summary': 'Fastener Diameter and Stem Protrusion/Recession Limits,\\nwith the following columns:\\n- Fastener Diameter: None\\n- A Max Acceptable Stem Protrusion Limits: None\\n- C Max Acceptable Stem Recession Limits: None\\n- Blind Head Minimum Diameter: None\\n'}, hash='1eac0cf485a95c85e80b878274e6614e7c5da180ecef5c6246b3db7fc4eb6894'), <NodeRelationship.NEXT: '3'>: RelatedNodeInfo(node_id='0c9d34f5-ce87-4559-bbde-87b8c5598970', node_type=<ObjectType.INDEX: '3'>, metadata={'col_schema': 'Column: Fastener Diameter\\nType: string\\nSummary: None\\n\\nColumn: A Max Acceptable Stem Protrusion Limits\\nType: string\\nSummary: None\\n\\nColumn: C Max Acceptable Stem Recession Limits\\nType: string\\nSummary: None\\n\\nColumn: Blind Head Minimum Diameter\\nType: string\\nSummary: None', 'file_path': '/Users/luchaojin/Library/CloudStorage/OneDrive-Personal/RAG Product/voice-rag/data/CA-1039.pdf', 'file_name': 'CA-1039.pdf', 'file_type': 'application/pdf', 'file_size': 986437, 'creation_date': '2024-09-25', 'last_modified_date': '2024-09-25', 'page_number': 18}, hash='42f55ae2f1a55a50d98c1c26c3055e389192435901ee81be872ebc68bd30832c')}, text='(3) Per NASM 8975\\n\\n TITANIUM STEM POSITIONS(4)', mimetype='text/plain', start_char_idx=1, end_char_idx=47, text_template='{metadata_str}\\n\\n{content}', metadata_template='{key}: {value}', metadata_seperator='\\n'), score=0.6447171632859925)]"
      ]
     },
     "execution_count": 125,
     "metadata": {},
     "output_type": "execute_result"
    }
   ],
   "source": [
    "response.source_nodes"
   ]
  },
  {
   "cell_type": "code",
   "execution_count": 105,
   "metadata": {},
   "outputs": [
    {
     "name": "stderr",
     "output_type": "stream",
     "text": [
      "2024-09-26 07:54:10,843 - INFO - HTTP Request: POST https://api.openai.com/v1/embeddings \"HTTP/1.1 200 OK\"\n",
      "2024-09-26 07:54:14,788 - INFO - HTTP Request: POST https://api.openai.com/v1/chat/completions \"HTTP/1.1 200 OK\"\n"
     ]
    },
    {
     "name": "stdout",
     "output_type": "stream",
     "text": [
      "The head style of CR7680S is 100° Flush Head.\n"
     ]
    }
   ],
   "source": [
    "response = query_engine.query(\"Head Style of CR7680S\")\n",
    "print(response)"
   ]
  },
  {
   "cell_type": "code",
   "execution_count": 106,
   "metadata": {},
   "outputs": [
    {
     "name": "stderr",
     "output_type": "stream",
     "text": [
      "2024-09-26 07:54:18,908 - INFO - HTTP Request: POST https://api.openai.com/v1/embeddings \"HTTP/1.1 200 OK\"\n",
      "2024-09-26 07:54:20,977 - INFO - HTTP Request: POST https://api.openai.com/v1/chat/completions \"HTTP/1.1 200 OK\"\n"
     ]
    },
    {
     "name": "stdout",
     "output_type": "stream",
     "text": [
      "The Nose Piece Type of MS21140U05 is U, which stands for Special Nose.\n"
     ]
    }
   ],
   "source": [
    "response = query_engine.query(\"Nose Piece Type of MS21140U05\")\n",
    "print(response)"
   ]
  },
  {
   "cell_type": "code",
   "execution_count": 107,
   "metadata": {},
   "outputs": [
    {
     "name": "stderr",
     "output_type": "stream",
     "text": [
      "2024-09-26 07:54:35,839 - INFO - HTTP Request: POST https://api.openai.com/v1/embeddings \"HTTP/1.1 200 OK\"\n",
      "2024-09-26 07:54:37,611 - INFO - HTTP Request: POST https://api.openai.com/v1/chat/completions \"HTTP/1.1 200 OK\"\n"
     ]
    },
    {
     "name": "stdout",
     "output_type": "stream",
     "text": [
      "The nose piece type for MS21140U05 is 'U', which stands for Special Nose.\n"
     ]
    }
   ],
   "source": [
    "response = query_engine.query(\"nose piece type of MS21140U05\")\n",
    "print(response)"
   ]
  },
  {
   "cell_type": "code",
   "execution_count": 118,
   "metadata": {},
   "outputs": [
    {
     "name": "stderr",
     "output_type": "stream",
     "text": [
      "2024-09-26 07:59:47,741 - INFO - HTTP Request: POST https://api.openai.com/v1/embeddings \"HTTP/1.1 200 OK\"\n",
      "2024-09-26 07:59:53,924 - INFO - HTTP Request: POST https://api.openai.com/v1/chat/completions \"HTTP/1.1 200 OK\"\n"
     ]
    },
    {
     "name": "stdout",
     "output_type": "stream",
     "text": [
      "The \"MS21140U05*\" is a part number. The \"U\" in the part number indicates a special nose. The \"05\" is likely related to the grip length dash number. However, the exact details of \"05\" are not provided in the context. The \"*\" could potentially represent a suffix. For instance, a \"P\" suffix to MS21140 indicates a cadmium plate, and a \"D\" suffix indicates an aluminum IVD coating.\n"
     ]
    }
   ],
   "source": [
    "response = query_engine.query(\"MS21140U05*\")\n",
    "print(response)"
   ]
  },
  {
   "cell_type": "code",
   "execution_count": 135,
   "metadata": {},
   "outputs": [
    {
     "name": "stdout",
     "output_type": "stream",
     "text": [
      "df9fd999-2761-4654-94ec-e1a9676c8869 Basic Part Number (materials and head style)\n",
      "\n",
      "Note: Refer to Cherry MAXIBOLT catalogue for complete list of finish alternates and codes. See page 6 for cross reference of Cherry MAXIBOLT and MS part numbers.\n",
      "\n",
      " MILITARY PART NUMBER IDENTIFICATION\n",
      "\n",
      "MS90353 S 06 04 ( ) CA-1039.pdf 6\n",
      "f1285d53-2aca-4c32-bd56-be8e4994b03b (1) Per NASM81177\n",
      "\n",
      "(2) Per NASM8975 and Cherry Aerospace PS-CMB-7000 CA-1039.pdf 20\n",
      "eb3d704b-bbb5-40d2-880b-9b7626be8a7a MAXIBOLT PLUS CA-1039.pdf 7\n",
      "a3795d2b-7598-47f9-acef-74b5b3ef5eb1 * Grip Length dash number — see page XXXX\n",
      "\n",
      "** Installation Riveter Codes: DA=Double Action, S=Single Action,\n",
      "\n",
      "***B - Blunt type; U - Special Nose\n",
      "\n",
      "P- Suffix to MS21140 and MS21141 indicates cadmium plate\n",
      "\n",
      "D- Suffix to MS90353 and MS90354 indicates aluminum IVD coating\n",
      "\n",
      "P- Suffix to Cherry Part No.for A286 CRES parts indicate cadmium plate\n",
      "\n",
      "D- Suffix to Cherry indicates aluminum IVD coating;\n",
      "\n",
      "Note: There is no cross-reference between the Cherry Titanium MAXIBOLT and any MS no.\n",
      "\n",
      "Refer to Page 22 for Installation Tool Selection Chart CA-1039.pdf 8\n",
      "7ccacb0a-5c54-4b1e-8aa2-87325f8a1c06 (3) Per NASM 8975\n",
      "\n",
      " TITANIUM STEM POSITIONS(4) CA-1039.pdf 18\n"
     ]
    }
   ],
   "source": [
    "for node in response.source_nodes:\n",
    "    print(node.id_, node.get_content(), node.metadata.get('file_name'), node.metadata.get('page_number'))\n"
   ]
  },
  {
   "cell_type": "code",
   "execution_count": 78,
   "metadata": {},
   "outputs": [
    {
     "data": {
      "text/plain": [
       "NodeWithScore(node=TextNode(id_='d0b236ca-e7da-4ae2-8726-916dda6cfdb4', embedding=None, metadata={'file_path': '/Users/luchaojin/Library/CloudStorage/OneDrive-Personal/RAG Product/voice-rag/data/CA-1039.pdf', 'file_name': 'CA-1039.pdf', 'file_type': 'application/pdf', 'file_size': 986437, 'creation_date': '2024-09-25', 'last_modified_date': '2024-09-25', 'page_number': 7}, excluded_embed_metadata_keys=['file_name', 'file_type', 'file_size', 'creation_date', 'last_modified_date', 'last_accessed_date'], excluded_llm_metadata_keys=['file_name', 'file_type', 'file_size', 'creation_date', 'last_modified_date', 'last_accessed_date'], relationships={<NodeRelationship.SOURCE: '1'>: RelatedNodeInfo(node_id='6764f192-4014-4a95-9af9-6e2e4b328a8f', node_type=<ObjectType.DOCUMENT: '4'>, metadata={'file_path': '/Users/luchaojin/Library/CloudStorage/OneDrive-Personal/RAG Product/voice-rag/data/CA-1039.pdf', 'file_name': 'CA-1039.pdf', 'file_type': 'application/pdf', 'file_size': 986437, 'creation_date': '2024-09-25', 'last_modified_date': '2024-09-25', 'page_number': 7}, hash='9844475a6a522d969bd9dc195fcffec53cdc7aa085d4ab7e77377fa6e31289fe'), <NodeRelationship.NEXT: '3'>: RelatedNodeInfo(node_id='1fa71898-9d82-4cf1-b40c-c6344e3e4c3f', node_type=<ObjectType.INDEX: '3'>, metadata={'col_schema': 'Column: STANDARD MAXIBOLT\\nType: text\\nSummary: Features related to Sleeve Material Code, Manufacturer’s Identification, and Grip Identification\\n\\nColumn: OVERSIZE MAXIBOLT\\nType: text\\nSummary: Features related to Sleeve Material Code, Manufacturer’s Identification, Designation of “Oversize”, and Grip Identification\\n\\nColumn: MAXIBOLT PLUS\\nType: text\\nSummary: Features related to Sleeve Material Code, Manufacturer’s Identification, and Grip Identification', 'file_path': '/Users/luchaojin/Library/CloudStorage/OneDrive-Personal/RAG Product/voice-rag/data/CA-1039.pdf', 'file_name': 'CA-1039.pdf', 'file_type': 'application/pdf', 'file_size': 986437, 'creation_date': '2024-09-25', 'last_modified_date': '2024-09-25', 'page_number': 7}, hash='df1bcfc67884ec8b0fd29c5efd8d5771e1ecbce20518a4461eeed95cf24847db')}, text='FASTENER IDENTIFICATION\\n\\n HEAD MARKINGS', mimetype='text/plain', start_char_idx=1, end_char_idx=40, text_template='{metadata_str}\\n\\n{content}', metadata_template='{key}: {value}', metadata_seperator='\\n'), score=-9.367222785949707)"
      ]
     },
     "execution_count": 78,
     "metadata": {},
     "output_type": "execute_result"
    }
   ],
   "source": [
    "response.source_nodes[4]"
   ]
  }
 ],
 "metadata": {
  "kernelspec": {
   "display_name": "rag",
   "language": "python",
   "name": "python3"
  },
  "language_info": {
   "codemirror_mode": {
    "name": "ipython",
    "version": 3
   },
   "file_extension": ".py",
   "mimetype": "text/x-python",
   "name": "python",
   "nbconvert_exporter": "python",
   "pygments_lexer": "ipython3",
   "version": "3.10.14"
  }
 },
 "nbformat": 4,
 "nbformat_minor": 2
}
