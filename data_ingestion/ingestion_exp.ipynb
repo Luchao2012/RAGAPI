{
 "cells": [
  {
   "cell_type": "code",
   "execution_count": 13,
   "metadata": {},
   "outputs": [],
   "source": [
    "# Import dependencies and initate model\n",
    "import os\n",
    "from llama_index.llms.openai import OpenAI\n",
    "from llama_index.embeddings.openai import OpenAIEmbedding\n",
    "import openai\n",
    "from getpass import getpass\n",
    "from dotenv import load_dotenv, find_dotenv\n",
    "_ = load_dotenv('.env')\n",
    "openai.api_key = os.environ['OPENAI_API_KEY']\n",
    "\n",
    "import logging\n",
    "# Add logging configuration\n",
    "logging.basicConfig(level=logging.INFO, format='%(asctime)s - %(levelname)s - %(message)s')\n",
    "\n",
    "llm_gpt35 = OpenAI(\n",
    "    model=\"gpt-35-turbo\",\n",
    ")\n",
    "\n",
    "llm_gpt4 = OpenAI(\n",
    "    model=\"gpt-4\",\n",
    ")\n",
    "\n",
    "# You need to deploy your own embedding model as well as your own chat completion model\n",
    "embed_model = OpenAIEmbedding(\n",
    "    model=\"text-embedding-ada-002\",\n",
    ")\n",
    "\n",
    "from llama_index.core import Settings\n",
    "\n",
    "Settings.llm = llm_gpt4\n",
    "Settings.embed_model = embed_model"
   ]
  },
  {
   "cell_type": "code",
   "execution_count": 10,
   "metadata": {},
   "outputs": [],
   "source": [
    "import chromadb\n",
    "from llama_index.core import VectorStoreIndex, SimpleDirectoryReader\n",
    "from llama_index.vector_stores.chroma import ChromaVectorStore\n",
    "from llama_index.core import StorageContext"
   ]
  },
  {
   "cell_type": "code",
   "execution_count": 12,
   "metadata": {},
   "outputs": [],
   "source": [
    "# load some documents\n",
    "documents = SimpleDirectoryReader(\"/Users/luchaojin/Library/CloudStorage/OneDrive-Personal/work/Alchemy/Literature/rag_exp\").load_data()"
   ]
  },
  {
   "cell_type": "code",
   "execution_count": 16,
   "metadata": {},
   "outputs": [
    {
     "name": "stderr",
     "output_type": "stream",
     "text": [
      "2024-08-28 10:12:07,161 - INFO - Anonymized telemetry enabled. See                     https://docs.trychroma.com/telemetry for more information.\n",
      "2024-08-28 10:12:08,468 - INFO - HTTP Request: POST https://api.openai.com/v1/embeddings \"HTTP/1.1 200 OK\"\n",
      "2024-08-28 10:12:09,204 - INFO - HTTP Request: POST https://api.openai.com/v1/embeddings \"HTTP/1.1 200 OK\"\n",
      "2024-08-28 10:12:09,839 - INFO - HTTP Request: POST https://api.openai.com/v1/embeddings \"HTTP/1.1 200 OK\"\n",
      "2024-08-28 10:12:10,668 - INFO - HTTP Request: POST https://api.openai.com/v1/embeddings \"HTTP/1.1 200 OK\"\n",
      "2024-08-28 10:12:12,729 - INFO - HTTP Request: POST https://api.openai.com/v1/embeddings \"HTTP/1.1 200 OK\"\n",
      "2024-08-28 10:12:13,915 - INFO - HTTP Request: POST https://api.openai.com/v1/chat/completions \"HTTP/1.1 200 OK\"\n"
     ]
    },
    {
     "name": "stdout",
     "output_type": "stream",
     "text": [
      "The context provided does not contain information about the meaning of life.\n"
     ]
    }
   ],
   "source": [
    "import chromadb\n",
    "from llama_index.core import VectorStoreIndex, SimpleDirectoryReader\n",
    "from llama_index.vector_stores.chroma import ChromaVectorStore\n",
    "from llama_index.core import StorageContext\n",
    "\n",
    "# load some documents\n",
    "documents = SimpleDirectoryReader(\"/Users/luchaojin/Library/CloudStorage/OneDrive-Personal/work/Alchemy/Literature/rag_exp\").load_data()\n",
    "\n",
    "# initialize client, setting path to save data\n",
    "db = chromadb.PersistentClient(path=\"../user_db\")\n",
    "\n",
    "# create collection\n",
    "chroma_collection = db.get_or_create_collection(\"rag_exp\")\n",
    "\n",
    "# assign chroma as the vector_store to the context\n",
    "vector_store = ChromaVectorStore(chroma_collection=chroma_collection)\n",
    "storage_context = StorageContext.from_defaults(vector_store=vector_store)\n",
    "\n",
    "# create your index\n",
    "index = VectorStoreIndex.from_documents(\n",
    "    documents, storage_context=storage_context\n",
    ")\n",
    "\n",
    "# create a query engine and query\n",
    "query_engine = index.as_query_engine()\n",
    "response = query_engine.query(\"What is the meaning of life?\")\n",
    "print(response)"
   ]
  },
  {
   "cell_type": "code",
   "execution_count": 4,
   "metadata": {},
   "outputs": [
    {
     "name": "stderr",
     "output_type": "stream",
     "text": []
    },
    {
     "name": "stderr",
     "output_type": "stream",
     "text": [
      "100%|██████████| 27/27 [00:18<00:00,  1.48it/s]\n"
     ]
    }
   ],
   "source": [
    "loader = DirectoryLoader('/Users/luchaojin/Library/CloudStorage/OneDrive-Personal/work/Alchemy/Literature/rag_exp', \n",
    "                         glob=\"**/*.pdf\", \n",
    "                         show_progress=True, \n",
    "                         use_multithreading=True,\n",
    "                         loader_cls=PyPDFLoader)\n",
    "docs = loader.load()\n"
   ]
  },
  {
   "cell_type": "code",
   "execution_count": 5,
   "metadata": {},
   "outputs": [
    {
     "data": {
      "text/plain": [
       "507"
      ]
     },
     "execution_count": 5,
     "metadata": {},
     "output_type": "execute_result"
    }
   ],
   "source": [
    "len(docs)"
   ]
  },
  {
   "cell_type": "code",
   "execution_count": 7,
   "metadata": {},
   "outputs": [
    {
     "name": "stdout",
     "output_type": "stream",
     "text": [
      "page_content='Microscale Investigation of the Impact of Surfactant Structure on\n",
      "the Residual Trapping in Natural Porous Media\n",
      "Vahideh Mirchi, *Mohammad J. Sabti, Mohammad Piri, and Lamia Goual\n",
      "Center of Innovation for Flow through Porous Media, Department of Petroleum Engineering, University of Wyoming, Laramie,\n",
      "Wyoming 82071, United States\n",
      "ABSTRACT: Residual trapping of a nonwetting phase in a\n",
      "porous medium is directly impacted by the relative magnitudeof capillary, viscous, and gravity forces. Ratios of these forcescontrol the sequence by which di ﬀerent pore-scale displace-\n",
      "ment mechanisms take place, which in turn govern the poreﬂuid occupancy and the residual nonwetting phase saturation.\n",
      "Parameters such as pore geometry, rock surface wettability,ﬂuid−ﬂuid interfacial tension, and ﬂuids ’viscosities, densities,\n",
      "andﬂow rates determine the magnitude of the above-\n",
      "mentioned forces. In this study, we show that there is anadditional set of factors that directly contributes to thedistribution of ﬂuids at the pore scale. We demonstrate that, under similar rock and ﬂuid properties, interfacial repulsive and\n",
      "attractive interactions, caused by the adsorption of surface-active chemicals on ﬂuid−ﬂuid interfaces, can signi ﬁcantly alter pore-\n",
      "scaleﬂuid occupancies. Using the microcomputed tomography (micro-CT) imaging technique integrated with a miniature core-\n",
      "ﬂooding apparatus, we investigate the impact of surfactant structure on pore-scale ﬂuid distributions in a limestone core sample\n",
      "subjected to injection of di ﬀerent wetting ﬂuid solutions. Poly(ethylene oxide) (PEO), a nonionic surfactant, and ammonium\n",
      "alkyl ether sulfate, an anionic surfactant, are utilized as surface-active agents providing similar oil −brine interfacial tension (IFT)\n",
      "and contact angle (CA) values. Oil cluster analyses along with three-dimensional (3D) visualization of ﬂuid distributions\n",
      "indicate that using the nonionic surfactant instead of the anionic surfactant results in the breaking up of the large and mediumoil clusters into smaller and scattered ones. We propose a mechanism relating the stability of oil −brine interface to surfactant\n",
      "structure that is responsible for the breakup and/or coalescence of oil clusters inside the pore space. The suggested mechanismis con ﬁrmed by the micro-CT images and associated oil cluster analyses. This phenomenon a ﬀects the competition between the\n",
      "frequency of displacement mechanisms causing variations in remaining oil saturations.\n",
      "1. INTRODUCTION\n",
      "Multiphase ﬂow displacements through porous media are\n",
      "directly relevant to many petroleum and environmentalengineering applications. They are particularly importantwhen multiple ﬂowing phases are present in oil-bearing\n",
      "reservoirs and diverse enhanced oil recovery and remediationtechniques, including water and surfactant ﬂooding, are\n",
      "employed. Oil/brine displacements in porous media are usuallystudied using indirect and/or core-scale measurement techni-ques such as material balance (average saturation) and medicalcomputed tomography (CT) imaging (in situ saturationproﬁle).\n",
      "1−3However, the observed behaviors from these\n",
      "conventional measurements are fundamentally governed byﬂuid−ﬂuid and rock −ﬂuid interfacial phenomena at the pore\n",
      "scale.4Therefore, direct observation of pore-scale ﬂuid\n",
      "occupancies is one of the most e ﬀective approaches to assess\n",
      "the dependence of macroscopic ﬂow behavior on the micro-\n",
      "scopic distributions of the corresponding ﬂuid phases.\n",
      "Fluid ﬂow in a reservoir is generally controlled by viscous,\n",
      "gravity, and capillary forces. The amount of residual oil isremarkably a ﬀected by the relative magnitude of these forces. In\n",
      "the regions far from the production/injection wells, thedisplacement of the remaining oil is primarily controlled bythe capillary forces.\n",
      "5One approach to signi ﬁcantly lower the\n",
      "trapped oil saturation within the pore space in these regions is to\n",
      "increase the oil mobility by using surfactants.6\n",
      "A limited body of work in literature has been devoted to the\n",
      "impact of surfactants on oil −brine pore-level occupancy using\n",
      "the X-ray microcomputed tomography (micro-CT) imaging\n",
      "technique, all of which employed surfactants only as an agent to\n",
      "reduce the interfacial tension with no focus on their\n",
      "structures.7−10Moreover, the majority of these research\n",
      "initiatives focused on experiments performed on sandstonerocks, whereas a signi ﬁcant portion of residual oil reserves are\n",
      "hosted by carbonate reservoirs.\n",
      "Oughanem et al.7measured the residual oil saturation after\n",
      "surfactant ﬂooding in sandstone rock samples using micro-CT\n",
      "imaging at di ﬀerent trapping numbers, which were de ﬁned as the\n",
      "sum of capillary and bond numbers. They established low to\n",
      "intermediate trapping numbers by reducing interfacial tension\n",
      "(injecting a surfactant solution) and changing ﬂow rates. The\n",
      "Received: February 6, 2019\n",
      "Revised: May 3, 2019\n",
      "Accepted: May 6, 2019\n",
      "Published: May 6, 2019Article\n",
      "pubs.acs.org/IECR Cite This: Ind. Eng. Chem. Res. 2019, 58, 9397 −9411\n",
      "© 2019 American Chemical Society 9397 DOI: 10.1021/acs.iecr.9b00748\n",
      "Ind. Eng. Chem. Res. 2019, 58, 9397 −9411\n",
      "Downloaded via UNIV OF WYOMING on September 26, 2019 at 16:35:31 (UTC).\n",
      "See https://pubs.acs.org/sharingguidelines for options on how to legitimately share published articles.\n",
      "' metadata={'source': '/Users/luchaojin/Library/CloudStorage/OneDrive-Personal/work/Alchemy/Literature/rag_exp/acs.iecr.9b00748.pdf', 'page': 0}\n"
     ]
    }
   ],
   "source": [
    "print(docs[0])"
   ]
  }
 ],
 "metadata": {
  "kernelspec": {
   "display_name": "rigmore",
   "language": "python",
   "name": "python3"
  },
  "language_info": {
   "codemirror_mode": {
    "name": "ipython",
    "version": 3
   },
   "file_extension": ".py",
   "mimetype": "text/x-python",
   "name": "python",
   "nbconvert_exporter": "python",
   "pygments_lexer": "ipython3",
   "version": "3.10.14"
  }
 },
 "nbformat": 4,
 "nbformat_minor": 2
}
